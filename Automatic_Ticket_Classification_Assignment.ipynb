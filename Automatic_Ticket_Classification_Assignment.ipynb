{
  "nbformat": 4,
  "nbformat_minor": 0,
  "metadata": {
    "kernelspec": {
      "display_name": "Python 3",
      "language": "python",
      "name": "python3"
    },
    "language_info": {
      "codemirror_mode": {
        "name": "ipython",
        "version": 3
      },
      "file_extension": ".py",
      "mimetype": "text/x-python",
      "name": "python",
      "nbconvert_exporter": "python",
      "pygments_lexer": "ipython3",
      "version": "3.7.6"
    },
    "colab": {
      "provenance": [],
      "collapsed_sections": [
        "T9jD_6SeJrF3",
        "5DfCSbbmJrF4",
        "yYzD85nTJrGA",
        "piyLxzj6v07j",
        "280Vbqk-7a8M"
      ],
      "include_colab_link": true
    },
    "accelerator": "GPU",
    "gpuClass": "standard"
  },
  "cells": [
    {
      "cell_type": "markdown",
      "metadata": {
        "id": "view-in-github",
        "colab_type": "text"
      },
      "source": [
        "<a href=\"https://colab.research.google.com/github/Ashish0898/Automatic-Ticket-Classification/blob/Dev/Automatic_Ticket_Classification_Assignment.ipynb\" target=\"_parent\"><img src=\"https://colab.research.google.com/assets/colab-badge.svg\" alt=\"Open In Colab\"/></a>"
      ]
    },
    {
      "cell_type": "markdown",
      "metadata": {
        "id": "rhR-ZUkwJrFn"
      },
      "source": [
        "## Problem Statement \n",
        "\n",
        "You need to build a model that is able to classify customer complaints based on the products/services. By doing so, you can segregate these tickets into their relevant categories and, therefore, help in the quick resolution of the issue.\n",
        "\n",
        "You will be doing topic modelling on the <b>.json</b> data provided by the company. Since this data is not labelled, you need to apply NMF to analyse patterns and classify tickets into the following five clusters based on their products/services:\n",
        "\n",
        "* Credit card / Prepaid card\n",
        "\n",
        "* Bank account services\n",
        "\n",
        "* Theft/Dispute reporting\n",
        "\n",
        "* Mortgages/loans\n",
        "\n",
        "* Others \n",
        "\n",
        "\n",
        "With the help of topic modelling, you will be able to map each ticket onto its respective department/category. You can then use this data to train any supervised model such as logistic regression, decision tree or random forest. Using this trained model, you can classify any new customer complaint support ticket into its relevant department."
      ]
    },
    {
      "cell_type": "markdown",
      "metadata": {
        "id": "mcgXVNyaLUFS"
      },
      "source": [
        "## Pipelines that needs to be performed:\n",
        "\n",
        "You need to perform the following eight major tasks to complete the assignment:\n",
        "\n",
        "1.  Data loading\n",
        "\n",
        "2. Text preprocessing\n",
        "\n",
        "3. Exploratory data analysis (EDA)\n",
        "\n",
        "4. Feature extraction\n",
        "\n",
        "5. Topic modelling \n",
        "\n",
        "6. Model building using supervised learning\n",
        "\n",
        "7. Model training and evaluation\n",
        "\n",
        "8. Model inference"
      ]
    },
    {
      "cell_type": "markdown",
      "source": [
        "## Cloning the DataSet from Github repo"
      ],
      "metadata": {
        "id": "aZKiwe4hzSqY"
      }
    },
    {
      "cell_type": "code",
      "source": [
        "# Cloning Github Repo to fetch JSON file\n",
        "import os\n",
        "import shutil\n",
        "\n",
        "if os.path.exists('/content/Automatic-Ticket-Classification'):\n",
        "  shutil.rmtree('/content/Automatic-Ticket-Classification')\n",
        "  \n",
        "! git clone 'https://github.com/Ashish0898/Automatic-Ticket-Classification'"
      ],
      "metadata": {
        "id": "DV1o9pbiSu_V",
        "outputId": "e6a29e55-0b63-443e-deb0-6e5a363f4334",
        "colab": {
          "base_uri": "https://localhost:8080/"
        }
      },
      "execution_count": 1,
      "outputs": [
        {
          "output_type": "stream",
          "name": "stdout",
          "text": [
            "Cloning into 'Automatic-Ticket-Classification'...\n",
            "remote: Enumerating objects: 29, done.\u001b[K\n",
            "remote: Counting objects: 100% (29/29), done.\u001b[K\n",
            "remote: Compressing objects: 100% (28/28), done.\u001b[K\n",
            "remote: Total 29 (delta 13), reused 0 (delta 0), pack-reused 0\u001b[K\n",
            "Unpacking objects: 100% (29/29), 14.21 MiB | 7.38 MiB/s, done.\n"
          ]
        }
      ]
    },
    {
      "cell_type": "code",
      "source": [
        "\n",
        "# Unzipping the file which contains JSON\n",
        "!unzip /content/Automatic-Ticket-Classification/complaints-2021-05-14_08_16.zip"
      ],
      "metadata": {
        "id": "yb_ZBOyJQrPm",
        "outputId": "66722e95-27e8-475e-9fe0-2ffa1a6b028c",
        "colab": {
          "base_uri": "https://localhost:8080/"
        },
        "collapsed": true
      },
      "execution_count": 2,
      "outputs": [
        {
          "output_type": "stream",
          "name": "stdout",
          "text": [
            "Archive:  /content/Automatic-Ticket-Classification/complaints-2021-05-14_08_16.zip\n",
            "  inflating: complaints-2021-05-14_08_16.json  \n"
          ]
        }
      ]
    },
    {
      "cell_type": "markdown",
      "metadata": {
        "id": "JuLFIymAL58u"
      },
      "source": [
        "## Importing the necessary libraries"
      ]
    },
    {
      "cell_type": "code",
      "metadata": {
        "id": "O-Q9pqrcJrFr",
        "colab": {
          "base_uri": "https://localhost:8080/"
        },
        "outputId": "9c3bc4b6-fd80-443b-97db-854f9ca3734e"
      },
      "source": [
        "import json \n",
        "import numpy as np\n",
        "import pandas as pd\n",
        "import re, nltk, spacy, string\n",
        "import en_core_web_sm\n",
        "nlp = en_core_web_sm.load()\n",
        "import seaborn as sns\n",
        "import matplotlib.pyplot as plt\n",
        "%matplotlib inline\n",
        "\n",
        "from plotly.offline import plot\n",
        "import plotly.graph_objects as go\n",
        "import plotly.express as px\n",
        "\n",
        "from sklearn.feature_extraction.text import CountVectorizer, TfidfVectorizer\n",
        "from pprint import pprint\n",
        "\n",
        "from nltk.corpus import stopwords\n",
        "from nltk.tokenize import word_tokenize, sent_tokenize\n",
        "\n",
        "from nltk.stem import WordNetLemmatizer\n",
        "from textblob import TextBlob, Word\n",
        "nltk.download('punkt')\n",
        "nltk.download('wordnet')\n",
        "nltk.download('stopwords')\n",
        "nltk.download('averaged_perceptron_tagger')\n"
      ],
      "execution_count": 3,
      "outputs": [
        {
          "output_type": "stream",
          "name": "stderr",
          "text": [
            "[nltk_data] Downloading package punkt to /root/nltk_data...\n",
            "[nltk_data]   Unzipping tokenizers/punkt.zip.\n",
            "[nltk_data] Downloading package wordnet to /root/nltk_data...\n",
            "[nltk_data] Downloading package stopwords to /root/nltk_data...\n",
            "[nltk_data]   Unzipping corpora/stopwords.zip.\n",
            "[nltk_data] Downloading package averaged_perceptron_tagger to\n",
            "[nltk_data]     /root/nltk_data...\n",
            "[nltk_data]   Unzipping taggers/averaged_perceptron_tagger.zip.\n"
          ]
        },
        {
          "output_type": "execute_result",
          "data": {
            "text/plain": [
              "True"
            ]
          },
          "metadata": {},
          "execution_count": 3
        }
      ]
    },
    {
      "cell_type": "markdown",
      "metadata": {
        "id": "KtRLCsNVJrFt"
      },
      "source": [
        "## Loading the data\n",
        "\n",
        "The data is in JSON format and we need to convert it to a dataframe."
      ]
    },
    {
      "cell_type": "code",
      "source": [
        "# Opening JSON file \n",
        "with open('/content/complaints-2021-05-14_08_16.json', 'r') as file:\n",
        "    data = json.load(file)\n",
        "\n",
        "# returns JSON object as  \n",
        "# a dictionary \n",
        "\n",
        "df = pd.json_normalize(data)"
      ],
      "metadata": {
        "id": "cAnQAZ4fVEJw"
      },
      "execution_count": 4,
      "outputs": []
    },
    {
      "cell_type": "markdown",
      "source": [
        "## Debugging"
      ],
      "metadata": {
        "id": "pakj1lhibaKO"
      }
    },
    {
      "cell_type": "code",
      "source": [
        "text = \"Thisisatextwithoutspaces\"\n",
        "#pattern = r\"\\b\\w+\\b\"  # regex pattern to match one or more word characters\n",
        "\n",
        "pattern = r'^\\S+$'\n",
        "\n",
        "xyz=df.copy()\n",
        "xyz['_source.complaint_what_happened']=xyz['_source.complaint_what_happened'].replace('',np.nan,regex=True)\n",
        "#xyz['_source.complaint_what_happened']=xyz['_source.complaint_what_happened'].replace('',np.nan,regex=True)\n",
        "xyz.dropna(subset=['_source.complaint_what_happened'],inplace=True)\n",
        "\n",
        "\n",
        "# use regex to filter rows with sample text with no spaces\n",
        "xyz = xyz[~xyz['_source.complaint_what_happened'].str.contains(pattern)]\n",
        "xyz.head()\n",
        "# print the resulting dataframe\n",
        "#xyz.head()\n",
        "\n",
        "\n",
        "# for i in xyz['_source.complaint_what_happened']:\n",
        "#   matches = re.search(pattern, i)\n",
        "#   print(matches)\n",
        "  # if(matches== True):\n",
        "  #   xyz = xyz.drop(xyz[xyz['_source.complaint_what_happened'] == i].index, inplace=True)\n",
        "\n",
        "#df.head()"
      ],
      "metadata": {
        "id": "YzLyEZVqhKn8",
        "colab": {
          "base_uri": "https://localhost:8080/",
          "height": 473
        },
        "outputId": "daba163b-05ce-4f7d-eac4-6048771df8cc"
      },
      "execution_count": 5,
      "outputs": [
        {
          "output_type": "execute_result",
          "data": {
            "text/plain": [
              "                 _index      _type      _id  _score   _source.tags  \\\n",
              "1   complaint-public-v2  complaint  3229299     0.0  Servicemember   \n",
              "2   complaint-public-v2  complaint  3199379     0.0           None   \n",
              "10  complaint-public-v2  complaint  3233499     0.0           None   \n",
              "11  complaint-public-v2  complaint  3180294     0.0           None   \n",
              "14  complaint-public-v2  complaint  3224980     0.0           None   \n",
              "\n",
              "   _source.zip_code _source.complaint_id  \\\n",
              "1             319XX              3229299   \n",
              "2             77069              3199379   \n",
              "10            104XX              3233499   \n",
              "11            750XX              3180294   \n",
              "14            920XX              3224980   \n",
              "\n",
              "                           _source.issue      _source.date_received  \\\n",
              "1        Written notification about debt  2019-05-01T12:00:00-05:00   \n",
              "2     Other features, terms, or problems  2019-04-02T12:00:00-05:00   \n",
              "10  Incorrect information on your report  2019-05-06T12:00:00-05:00   \n",
              "11  Incorrect information on your report  2019-03-14T12:00:00-05:00   \n",
              "14                   Managing an account  2019-04-27T12:00:00-05:00   \n",
              "\n",
              "   _source.state  ... _source.company_response       _source.company  \\\n",
              "1             GA  ...  Closed with explanation  JPMORGAN CHASE & CO.   \n",
              "2             TX  ...  Closed with explanation  JPMORGAN CHASE & CO.   \n",
              "10            NY  ...  Closed with explanation  JPMORGAN CHASE & CO.   \n",
              "11            TX  ...  Closed with explanation  JPMORGAN CHASE & CO.   \n",
              "14            CA  ...  Closed with explanation  JPMORGAN CHASE & CO.   \n",
              "\n",
              "   _source.submitted_via _source.date_sent_to_company  \\\n",
              "1                    Web    2019-05-01T12:00:00-05:00   \n",
              "2                    Web    2019-04-02T12:00:00-05:00   \n",
              "10                   Web    2019-05-06T12:00:00-05:00   \n",
              "11                   Web    2019-03-15T12:00:00-05:00   \n",
              "14                   Web    2019-04-27T12:00:00-05:00   \n",
              "\n",
              "   _source.company_public_response  \\\n",
              "1                             None   \n",
              "2                             None   \n",
              "10                            None   \n",
              "11                            None   \n",
              "14                            None   \n",
              "\n",
              "                           _source.sub_product _source.timely  \\\n",
              "1                             Credit card debt            Yes   \n",
              "2   General-purpose credit card or charge card            Yes   \n",
              "10              Other personal consumer report            Yes   \n",
              "11                            Credit reporting            Yes   \n",
              "14                            Checking account            Yes   \n",
              "\n",
              "                      _source.complaint_what_happened  \\\n",
              "1   Good morning my name is XXXX XXXX and I apprec...   \n",
              "2   I upgraded my XXXX XXXX card in XX/XX/2018 and...   \n",
              "10  Chase Card was reported on XX/XX/2019. However...   \n",
              "11  On XX/XX/2018, while trying to book a XXXX  XX...   \n",
              "14  my grand son give me check for {$1600.00} i de...   \n",
              "\n",
              "                                   _source.sub_issue  \\\n",
              "1   Didn't receive enough information to verify debt   \n",
              "2              Problem with rewards from credit card   \n",
              "10               Information belongs to someone else   \n",
              "11               Information belongs to someone else   \n",
              "14      Funds not handled or disbursed as instructed   \n",
              "\n",
              "   _source.consumer_consent_provided  \n",
              "1                   Consent provided  \n",
              "2                   Consent provided  \n",
              "10                  Consent provided  \n",
              "11                  Consent provided  \n",
              "14                  Consent provided  \n",
              "\n",
              "[5 rows x 22 columns]"
            ],
            "text/html": [
              "\n",
              "  <div id=\"df-c414652a-3585-47bf-8b05-1e48afadb2c2\">\n",
              "    <div class=\"colab-df-container\">\n",
              "      <div>\n",
              "<style scoped>\n",
              "    .dataframe tbody tr th:only-of-type {\n",
              "        vertical-align: middle;\n",
              "    }\n",
              "\n",
              "    .dataframe tbody tr th {\n",
              "        vertical-align: top;\n",
              "    }\n",
              "\n",
              "    .dataframe thead th {\n",
              "        text-align: right;\n",
              "    }\n",
              "</style>\n",
              "<table border=\"1\" class=\"dataframe\">\n",
              "  <thead>\n",
              "    <tr style=\"text-align: right;\">\n",
              "      <th></th>\n",
              "      <th>_index</th>\n",
              "      <th>_type</th>\n",
              "      <th>_id</th>\n",
              "      <th>_score</th>\n",
              "      <th>_source.tags</th>\n",
              "      <th>_source.zip_code</th>\n",
              "      <th>_source.complaint_id</th>\n",
              "      <th>_source.issue</th>\n",
              "      <th>_source.date_received</th>\n",
              "      <th>_source.state</th>\n",
              "      <th>...</th>\n",
              "      <th>_source.company_response</th>\n",
              "      <th>_source.company</th>\n",
              "      <th>_source.submitted_via</th>\n",
              "      <th>_source.date_sent_to_company</th>\n",
              "      <th>_source.company_public_response</th>\n",
              "      <th>_source.sub_product</th>\n",
              "      <th>_source.timely</th>\n",
              "      <th>_source.complaint_what_happened</th>\n",
              "      <th>_source.sub_issue</th>\n",
              "      <th>_source.consumer_consent_provided</th>\n",
              "    </tr>\n",
              "  </thead>\n",
              "  <tbody>\n",
              "    <tr>\n",
              "      <th>1</th>\n",
              "      <td>complaint-public-v2</td>\n",
              "      <td>complaint</td>\n",
              "      <td>3229299</td>\n",
              "      <td>0.0</td>\n",
              "      <td>Servicemember</td>\n",
              "      <td>319XX</td>\n",
              "      <td>3229299</td>\n",
              "      <td>Written notification about debt</td>\n",
              "      <td>2019-05-01T12:00:00-05:00</td>\n",
              "      <td>GA</td>\n",
              "      <td>...</td>\n",
              "      <td>Closed with explanation</td>\n",
              "      <td>JPMORGAN CHASE &amp; CO.</td>\n",
              "      <td>Web</td>\n",
              "      <td>2019-05-01T12:00:00-05:00</td>\n",
              "      <td>None</td>\n",
              "      <td>Credit card debt</td>\n",
              "      <td>Yes</td>\n",
              "      <td>Good morning my name is XXXX XXXX and I apprec...</td>\n",
              "      <td>Didn't receive enough information to verify debt</td>\n",
              "      <td>Consent provided</td>\n",
              "    </tr>\n",
              "    <tr>\n",
              "      <th>2</th>\n",
              "      <td>complaint-public-v2</td>\n",
              "      <td>complaint</td>\n",
              "      <td>3199379</td>\n",
              "      <td>0.0</td>\n",
              "      <td>None</td>\n",
              "      <td>77069</td>\n",
              "      <td>3199379</td>\n",
              "      <td>Other features, terms, or problems</td>\n",
              "      <td>2019-04-02T12:00:00-05:00</td>\n",
              "      <td>TX</td>\n",
              "      <td>...</td>\n",
              "      <td>Closed with explanation</td>\n",
              "      <td>JPMORGAN CHASE &amp; CO.</td>\n",
              "      <td>Web</td>\n",
              "      <td>2019-04-02T12:00:00-05:00</td>\n",
              "      <td>None</td>\n",
              "      <td>General-purpose credit card or charge card</td>\n",
              "      <td>Yes</td>\n",
              "      <td>I upgraded my XXXX XXXX card in XX/XX/2018 and...</td>\n",
              "      <td>Problem with rewards from credit card</td>\n",
              "      <td>Consent provided</td>\n",
              "    </tr>\n",
              "    <tr>\n",
              "      <th>10</th>\n",
              "      <td>complaint-public-v2</td>\n",
              "      <td>complaint</td>\n",
              "      <td>3233499</td>\n",
              "      <td>0.0</td>\n",
              "      <td>None</td>\n",
              "      <td>104XX</td>\n",
              "      <td>3233499</td>\n",
              "      <td>Incorrect information on your report</td>\n",
              "      <td>2019-05-06T12:00:00-05:00</td>\n",
              "      <td>NY</td>\n",
              "      <td>...</td>\n",
              "      <td>Closed with explanation</td>\n",
              "      <td>JPMORGAN CHASE &amp; CO.</td>\n",
              "      <td>Web</td>\n",
              "      <td>2019-05-06T12:00:00-05:00</td>\n",
              "      <td>None</td>\n",
              "      <td>Other personal consumer report</td>\n",
              "      <td>Yes</td>\n",
              "      <td>Chase Card was reported on XX/XX/2019. However...</td>\n",
              "      <td>Information belongs to someone else</td>\n",
              "      <td>Consent provided</td>\n",
              "    </tr>\n",
              "    <tr>\n",
              "      <th>11</th>\n",
              "      <td>complaint-public-v2</td>\n",
              "      <td>complaint</td>\n",
              "      <td>3180294</td>\n",
              "      <td>0.0</td>\n",
              "      <td>None</td>\n",
              "      <td>750XX</td>\n",
              "      <td>3180294</td>\n",
              "      <td>Incorrect information on your report</td>\n",
              "      <td>2019-03-14T12:00:00-05:00</td>\n",
              "      <td>TX</td>\n",
              "      <td>...</td>\n",
              "      <td>Closed with explanation</td>\n",
              "      <td>JPMORGAN CHASE &amp; CO.</td>\n",
              "      <td>Web</td>\n",
              "      <td>2019-03-15T12:00:00-05:00</td>\n",
              "      <td>None</td>\n",
              "      <td>Credit reporting</td>\n",
              "      <td>Yes</td>\n",
              "      <td>On XX/XX/2018, while trying to book a XXXX  XX...</td>\n",
              "      <td>Information belongs to someone else</td>\n",
              "      <td>Consent provided</td>\n",
              "    </tr>\n",
              "    <tr>\n",
              "      <th>14</th>\n",
              "      <td>complaint-public-v2</td>\n",
              "      <td>complaint</td>\n",
              "      <td>3224980</td>\n",
              "      <td>0.0</td>\n",
              "      <td>None</td>\n",
              "      <td>920XX</td>\n",
              "      <td>3224980</td>\n",
              "      <td>Managing an account</td>\n",
              "      <td>2019-04-27T12:00:00-05:00</td>\n",
              "      <td>CA</td>\n",
              "      <td>...</td>\n",
              "      <td>Closed with explanation</td>\n",
              "      <td>JPMORGAN CHASE &amp; CO.</td>\n",
              "      <td>Web</td>\n",
              "      <td>2019-04-27T12:00:00-05:00</td>\n",
              "      <td>None</td>\n",
              "      <td>Checking account</td>\n",
              "      <td>Yes</td>\n",
              "      <td>my grand son give me check for {$1600.00} i de...</td>\n",
              "      <td>Funds not handled or disbursed as instructed</td>\n",
              "      <td>Consent provided</td>\n",
              "    </tr>\n",
              "  </tbody>\n",
              "</table>\n",
              "<p>5 rows × 22 columns</p>\n",
              "</div>\n",
              "      <button class=\"colab-df-convert\" onclick=\"convertToInteractive('df-c414652a-3585-47bf-8b05-1e48afadb2c2')\"\n",
              "              title=\"Convert this dataframe to an interactive table.\"\n",
              "              style=\"display:none;\">\n",
              "        \n",
              "  <svg xmlns=\"http://www.w3.org/2000/svg\" height=\"24px\"viewBox=\"0 0 24 24\"\n",
              "       width=\"24px\">\n",
              "    <path d=\"M0 0h24v24H0V0z\" fill=\"none\"/>\n",
              "    <path d=\"M18.56 5.44l.94 2.06.94-2.06 2.06-.94-2.06-.94-.94-2.06-.94 2.06-2.06.94zm-11 1L8.5 8.5l.94-2.06 2.06-.94-2.06-.94L8.5 2.5l-.94 2.06-2.06.94zm10 10l.94 2.06.94-2.06 2.06-.94-2.06-.94-.94-2.06-.94 2.06-2.06.94z\"/><path d=\"M17.41 7.96l-1.37-1.37c-.4-.4-.92-.59-1.43-.59-.52 0-1.04.2-1.43.59L10.3 9.45l-7.72 7.72c-.78.78-.78 2.05 0 2.83L4 21.41c.39.39.9.59 1.41.59.51 0 1.02-.2 1.41-.59l7.78-7.78 2.81-2.81c.8-.78.8-2.07 0-2.86zM5.41 20L4 18.59l7.72-7.72 1.47 1.35L5.41 20z\"/>\n",
              "  </svg>\n",
              "      </button>\n",
              "      \n",
              "  <style>\n",
              "    .colab-df-container {\n",
              "      display:flex;\n",
              "      flex-wrap:wrap;\n",
              "      gap: 12px;\n",
              "    }\n",
              "\n",
              "    .colab-df-convert {\n",
              "      background-color: #E8F0FE;\n",
              "      border: none;\n",
              "      border-radius: 50%;\n",
              "      cursor: pointer;\n",
              "      display: none;\n",
              "      fill: #1967D2;\n",
              "      height: 32px;\n",
              "      padding: 0 0 0 0;\n",
              "      width: 32px;\n",
              "    }\n",
              "\n",
              "    .colab-df-convert:hover {\n",
              "      background-color: #E2EBFA;\n",
              "      box-shadow: 0px 1px 2px rgba(60, 64, 67, 0.3), 0px 1px 3px 1px rgba(60, 64, 67, 0.15);\n",
              "      fill: #174EA6;\n",
              "    }\n",
              "\n",
              "    [theme=dark] .colab-df-convert {\n",
              "      background-color: #3B4455;\n",
              "      fill: #D2E3FC;\n",
              "    }\n",
              "\n",
              "    [theme=dark] .colab-df-convert:hover {\n",
              "      background-color: #434B5C;\n",
              "      box-shadow: 0px 1px 3px 1px rgba(0, 0, 0, 0.15);\n",
              "      filter: drop-shadow(0px 1px 2px rgba(0, 0, 0, 0.3));\n",
              "      fill: #FFFFFF;\n",
              "    }\n",
              "  </style>\n",
              "\n",
              "      <script>\n",
              "        const buttonEl =\n",
              "          document.querySelector('#df-c414652a-3585-47bf-8b05-1e48afadb2c2 button.colab-df-convert');\n",
              "        buttonEl.style.display =\n",
              "          google.colab.kernel.accessAllowed ? 'block' : 'none';\n",
              "\n",
              "        async function convertToInteractive(key) {\n",
              "          const element = document.querySelector('#df-c414652a-3585-47bf-8b05-1e48afadb2c2');\n",
              "          const dataTable =\n",
              "            await google.colab.kernel.invokeFunction('convertToInteractive',\n",
              "                                                     [key], {});\n",
              "          if (!dataTable) return;\n",
              "\n",
              "          const docLinkHtml = 'Like what you see? Visit the ' +\n",
              "            '<a target=\"_blank\" href=https://colab.research.google.com/notebooks/data_table.ipynb>data table notebook</a>'\n",
              "            + ' to learn more about interactive tables.';\n",
              "          element.innerHTML = '';\n",
              "          dataTable['output_type'] = 'display_data';\n",
              "          await google.colab.output.renderOutput(dataTable, element);\n",
              "          const docLink = document.createElement('div');\n",
              "          docLink.innerHTML = docLinkHtml;\n",
              "          element.appendChild(docLink);\n",
              "        }\n",
              "      </script>\n",
              "    </div>\n",
              "  </div>\n",
              "  "
            ]
          },
          "metadata": {},
          "execution_count": 5
        }
      ]
    },
    {
      "cell_type": "code",
      "source": [
        "# pattern=r'\\b\\w+\\b'\n",
        "# for i in df['_source.complaint_what_happened']:\n",
        "#   matches = re.findall(pattern, i)\n",
        "#   if(matches):\n",
        "#     print(matches)\n",
        "#     #df = df.drop(df[df['_source.complaint_what_happened'] == i].index, inplace=True)"
      ],
      "metadata": {
        "id": "pCfs2SNblCVx"
      },
      "execution_count": 6,
      "outputs": []
    },
    {
      "cell_type": "code",
      "source": [
        "#pd.set_option('display.max_colwidth', None)\n",
        "#pd.set_option('display.max_rows', None)\n",
        "\n",
        "\n",
        "xyz.head()\n",
        "#print(xyz[xyz['_source.complaint_id']=='3417346']['_source.complaint_what_happened'])\n",
        "print(xyz[xyz['_source.complaint_id']=='3417346']['_source.complaint_what_happened'])\n",
        "\n",
        "print(xyz.loc[7677])\n",
        "\n",
        "#pd.reset_option('display.max_colwidth')\n",
        "#pd.reset_option('display.max_rows')\n"
      ],
      "metadata": {
        "colab": {
          "base_uri": "https://localhost:8080/"
        },
        "id": "0tgY8gdIdmbE",
        "outputId": "47c07c5f-1c37-4043-e9b7-a82871d1090a"
      },
      "execution_count": 7,
      "outputs": [
        {
          "output_type": "stream",
          "name": "stdout",
          "text": [
            "7677    IreceivedanemailXX/XX/XXXXthatmycreditcardswer...\n",
            "Name: _source.complaint_what_happened, dtype: object\n",
            "_index                                                             complaint-public-v2\n",
            "_type                                                                        complaint\n",
            "_id                                                                            3417346\n",
            "_score                                                                             0.0\n",
            "_source.tags                                                                      None\n",
            "_source.zip_code                                                                 928XX\n",
            "_source.complaint_id                                                           3417346\n",
            "_source.issue                                                     Closing your account\n",
            "_source.date_received                                        2019-10-24T12:00:00-05:00\n",
            "_source.state                                                                       CA\n",
            "_source.consumer_disputed                                                          N/A\n",
            "_source.product                                            Credit card or prepaid card\n",
            "_source.company_response                                       Closed with explanation\n",
            "_source.company                                                   JPMORGAN CHASE & CO.\n",
            "_source.submitted_via                                                              Web\n",
            "_source.date_sent_to_company                                 2019-10-24T12:00:00-05:00\n",
            "_source.company_public_response                                                   None\n",
            "_source.sub_product                         General-purpose credit card or charge card\n",
            "_source.timely                                                                     Yes\n",
            "_source.complaint_what_happened      IreceivedanemailXX/XX/XXXXthatmycreditcardswer...\n",
            "_source.sub_issue                                          Company closed your account\n",
            "_source.consumer_consent_provided                                     Consent provided\n",
            "Name: 7677, dtype: object\n"
          ]
        }
      ]
    },
    {
      "cell_type": "code",
      "source": [
        "print(len(xyz),len(df))\n",
        "xyz.head()\n"
      ],
      "metadata": {
        "id": "41CuEBZTprcM",
        "outputId": "140afbd6-265a-4ce2-cb8e-c65f4896c9e6",
        "colab": {
          "base_uri": "https://localhost:8080/",
          "height": 490
        }
      },
      "execution_count": 8,
      "outputs": [
        {
          "output_type": "stream",
          "name": "stdout",
          "text": [
            "21069 78313\n"
          ]
        },
        {
          "output_type": "execute_result",
          "data": {
            "text/plain": [
              "                 _index      _type      _id  _score   _source.tags  \\\n",
              "1   complaint-public-v2  complaint  3229299     0.0  Servicemember   \n",
              "2   complaint-public-v2  complaint  3199379     0.0           None   \n",
              "10  complaint-public-v2  complaint  3233499     0.0           None   \n",
              "11  complaint-public-v2  complaint  3180294     0.0           None   \n",
              "14  complaint-public-v2  complaint  3224980     0.0           None   \n",
              "\n",
              "   _source.zip_code _source.complaint_id  \\\n",
              "1             319XX              3229299   \n",
              "2             77069              3199379   \n",
              "10            104XX              3233499   \n",
              "11            750XX              3180294   \n",
              "14            920XX              3224980   \n",
              "\n",
              "                           _source.issue      _source.date_received  \\\n",
              "1        Written notification about debt  2019-05-01T12:00:00-05:00   \n",
              "2     Other features, terms, or problems  2019-04-02T12:00:00-05:00   \n",
              "10  Incorrect information on your report  2019-05-06T12:00:00-05:00   \n",
              "11  Incorrect information on your report  2019-03-14T12:00:00-05:00   \n",
              "14                   Managing an account  2019-04-27T12:00:00-05:00   \n",
              "\n",
              "   _source.state  ... _source.company_response       _source.company  \\\n",
              "1             GA  ...  Closed with explanation  JPMORGAN CHASE & CO.   \n",
              "2             TX  ...  Closed with explanation  JPMORGAN CHASE & CO.   \n",
              "10            NY  ...  Closed with explanation  JPMORGAN CHASE & CO.   \n",
              "11            TX  ...  Closed with explanation  JPMORGAN CHASE & CO.   \n",
              "14            CA  ...  Closed with explanation  JPMORGAN CHASE & CO.   \n",
              "\n",
              "   _source.submitted_via _source.date_sent_to_company  \\\n",
              "1                    Web    2019-05-01T12:00:00-05:00   \n",
              "2                    Web    2019-04-02T12:00:00-05:00   \n",
              "10                   Web    2019-05-06T12:00:00-05:00   \n",
              "11                   Web    2019-03-15T12:00:00-05:00   \n",
              "14                   Web    2019-04-27T12:00:00-05:00   \n",
              "\n",
              "   _source.company_public_response  \\\n",
              "1                             None   \n",
              "2                             None   \n",
              "10                            None   \n",
              "11                            None   \n",
              "14                            None   \n",
              "\n",
              "                           _source.sub_product _source.timely  \\\n",
              "1                             Credit card debt            Yes   \n",
              "2   General-purpose credit card or charge card            Yes   \n",
              "10              Other personal consumer report            Yes   \n",
              "11                            Credit reporting            Yes   \n",
              "14                            Checking account            Yes   \n",
              "\n",
              "                      _source.complaint_what_happened  \\\n",
              "1   Good morning my name is XXXX XXXX and I apprec...   \n",
              "2   I upgraded my XXXX XXXX card in XX/XX/2018 and...   \n",
              "10  Chase Card was reported on XX/XX/2019. However...   \n",
              "11  On XX/XX/2018, while trying to book a XXXX  XX...   \n",
              "14  my grand son give me check for {$1600.00} i de...   \n",
              "\n",
              "                                   _source.sub_issue  \\\n",
              "1   Didn't receive enough information to verify debt   \n",
              "2              Problem with rewards from credit card   \n",
              "10               Information belongs to someone else   \n",
              "11               Information belongs to someone else   \n",
              "14      Funds not handled or disbursed as instructed   \n",
              "\n",
              "   _source.consumer_consent_provided  \n",
              "1                   Consent provided  \n",
              "2                   Consent provided  \n",
              "10                  Consent provided  \n",
              "11                  Consent provided  \n",
              "14                  Consent provided  \n",
              "\n",
              "[5 rows x 22 columns]"
            ],
            "text/html": [
              "\n",
              "  <div id=\"df-02c724eb-ab24-4f76-a074-4f757ba9a601\">\n",
              "    <div class=\"colab-df-container\">\n",
              "      <div>\n",
              "<style scoped>\n",
              "    .dataframe tbody tr th:only-of-type {\n",
              "        vertical-align: middle;\n",
              "    }\n",
              "\n",
              "    .dataframe tbody tr th {\n",
              "        vertical-align: top;\n",
              "    }\n",
              "\n",
              "    .dataframe thead th {\n",
              "        text-align: right;\n",
              "    }\n",
              "</style>\n",
              "<table border=\"1\" class=\"dataframe\">\n",
              "  <thead>\n",
              "    <tr style=\"text-align: right;\">\n",
              "      <th></th>\n",
              "      <th>_index</th>\n",
              "      <th>_type</th>\n",
              "      <th>_id</th>\n",
              "      <th>_score</th>\n",
              "      <th>_source.tags</th>\n",
              "      <th>_source.zip_code</th>\n",
              "      <th>_source.complaint_id</th>\n",
              "      <th>_source.issue</th>\n",
              "      <th>_source.date_received</th>\n",
              "      <th>_source.state</th>\n",
              "      <th>...</th>\n",
              "      <th>_source.company_response</th>\n",
              "      <th>_source.company</th>\n",
              "      <th>_source.submitted_via</th>\n",
              "      <th>_source.date_sent_to_company</th>\n",
              "      <th>_source.company_public_response</th>\n",
              "      <th>_source.sub_product</th>\n",
              "      <th>_source.timely</th>\n",
              "      <th>_source.complaint_what_happened</th>\n",
              "      <th>_source.sub_issue</th>\n",
              "      <th>_source.consumer_consent_provided</th>\n",
              "    </tr>\n",
              "  </thead>\n",
              "  <tbody>\n",
              "    <tr>\n",
              "      <th>1</th>\n",
              "      <td>complaint-public-v2</td>\n",
              "      <td>complaint</td>\n",
              "      <td>3229299</td>\n",
              "      <td>0.0</td>\n",
              "      <td>Servicemember</td>\n",
              "      <td>319XX</td>\n",
              "      <td>3229299</td>\n",
              "      <td>Written notification about debt</td>\n",
              "      <td>2019-05-01T12:00:00-05:00</td>\n",
              "      <td>GA</td>\n",
              "      <td>...</td>\n",
              "      <td>Closed with explanation</td>\n",
              "      <td>JPMORGAN CHASE &amp; CO.</td>\n",
              "      <td>Web</td>\n",
              "      <td>2019-05-01T12:00:00-05:00</td>\n",
              "      <td>None</td>\n",
              "      <td>Credit card debt</td>\n",
              "      <td>Yes</td>\n",
              "      <td>Good morning my name is XXXX XXXX and I apprec...</td>\n",
              "      <td>Didn't receive enough information to verify debt</td>\n",
              "      <td>Consent provided</td>\n",
              "    </tr>\n",
              "    <tr>\n",
              "      <th>2</th>\n",
              "      <td>complaint-public-v2</td>\n",
              "      <td>complaint</td>\n",
              "      <td>3199379</td>\n",
              "      <td>0.0</td>\n",
              "      <td>None</td>\n",
              "      <td>77069</td>\n",
              "      <td>3199379</td>\n",
              "      <td>Other features, terms, or problems</td>\n",
              "      <td>2019-04-02T12:00:00-05:00</td>\n",
              "      <td>TX</td>\n",
              "      <td>...</td>\n",
              "      <td>Closed with explanation</td>\n",
              "      <td>JPMORGAN CHASE &amp; CO.</td>\n",
              "      <td>Web</td>\n",
              "      <td>2019-04-02T12:00:00-05:00</td>\n",
              "      <td>None</td>\n",
              "      <td>General-purpose credit card or charge card</td>\n",
              "      <td>Yes</td>\n",
              "      <td>I upgraded my XXXX XXXX card in XX/XX/2018 and...</td>\n",
              "      <td>Problem with rewards from credit card</td>\n",
              "      <td>Consent provided</td>\n",
              "    </tr>\n",
              "    <tr>\n",
              "      <th>10</th>\n",
              "      <td>complaint-public-v2</td>\n",
              "      <td>complaint</td>\n",
              "      <td>3233499</td>\n",
              "      <td>0.0</td>\n",
              "      <td>None</td>\n",
              "      <td>104XX</td>\n",
              "      <td>3233499</td>\n",
              "      <td>Incorrect information on your report</td>\n",
              "      <td>2019-05-06T12:00:00-05:00</td>\n",
              "      <td>NY</td>\n",
              "      <td>...</td>\n",
              "      <td>Closed with explanation</td>\n",
              "      <td>JPMORGAN CHASE &amp; CO.</td>\n",
              "      <td>Web</td>\n",
              "      <td>2019-05-06T12:00:00-05:00</td>\n",
              "      <td>None</td>\n",
              "      <td>Other personal consumer report</td>\n",
              "      <td>Yes</td>\n",
              "      <td>Chase Card was reported on XX/XX/2019. However...</td>\n",
              "      <td>Information belongs to someone else</td>\n",
              "      <td>Consent provided</td>\n",
              "    </tr>\n",
              "    <tr>\n",
              "      <th>11</th>\n",
              "      <td>complaint-public-v2</td>\n",
              "      <td>complaint</td>\n",
              "      <td>3180294</td>\n",
              "      <td>0.0</td>\n",
              "      <td>None</td>\n",
              "      <td>750XX</td>\n",
              "      <td>3180294</td>\n",
              "      <td>Incorrect information on your report</td>\n",
              "      <td>2019-03-14T12:00:00-05:00</td>\n",
              "      <td>TX</td>\n",
              "      <td>...</td>\n",
              "      <td>Closed with explanation</td>\n",
              "      <td>JPMORGAN CHASE &amp; CO.</td>\n",
              "      <td>Web</td>\n",
              "      <td>2019-03-15T12:00:00-05:00</td>\n",
              "      <td>None</td>\n",
              "      <td>Credit reporting</td>\n",
              "      <td>Yes</td>\n",
              "      <td>On XX/XX/2018, while trying to book a XXXX  XX...</td>\n",
              "      <td>Information belongs to someone else</td>\n",
              "      <td>Consent provided</td>\n",
              "    </tr>\n",
              "    <tr>\n",
              "      <th>14</th>\n",
              "      <td>complaint-public-v2</td>\n",
              "      <td>complaint</td>\n",
              "      <td>3224980</td>\n",
              "      <td>0.0</td>\n",
              "      <td>None</td>\n",
              "      <td>920XX</td>\n",
              "      <td>3224980</td>\n",
              "      <td>Managing an account</td>\n",
              "      <td>2019-04-27T12:00:00-05:00</td>\n",
              "      <td>CA</td>\n",
              "      <td>...</td>\n",
              "      <td>Closed with explanation</td>\n",
              "      <td>JPMORGAN CHASE &amp; CO.</td>\n",
              "      <td>Web</td>\n",
              "      <td>2019-04-27T12:00:00-05:00</td>\n",
              "      <td>None</td>\n",
              "      <td>Checking account</td>\n",
              "      <td>Yes</td>\n",
              "      <td>my grand son give me check for {$1600.00} i de...</td>\n",
              "      <td>Funds not handled or disbursed as instructed</td>\n",
              "      <td>Consent provided</td>\n",
              "    </tr>\n",
              "  </tbody>\n",
              "</table>\n",
              "<p>5 rows × 22 columns</p>\n",
              "</div>\n",
              "      <button class=\"colab-df-convert\" onclick=\"convertToInteractive('df-02c724eb-ab24-4f76-a074-4f757ba9a601')\"\n",
              "              title=\"Convert this dataframe to an interactive table.\"\n",
              "              style=\"display:none;\">\n",
              "        \n",
              "  <svg xmlns=\"http://www.w3.org/2000/svg\" height=\"24px\"viewBox=\"0 0 24 24\"\n",
              "       width=\"24px\">\n",
              "    <path d=\"M0 0h24v24H0V0z\" fill=\"none\"/>\n",
              "    <path d=\"M18.56 5.44l.94 2.06.94-2.06 2.06-.94-2.06-.94-.94-2.06-.94 2.06-2.06.94zm-11 1L8.5 8.5l.94-2.06 2.06-.94-2.06-.94L8.5 2.5l-.94 2.06-2.06.94zm10 10l.94 2.06.94-2.06 2.06-.94-2.06-.94-.94-2.06-.94 2.06-2.06.94z\"/><path d=\"M17.41 7.96l-1.37-1.37c-.4-.4-.92-.59-1.43-.59-.52 0-1.04.2-1.43.59L10.3 9.45l-7.72 7.72c-.78.78-.78 2.05 0 2.83L4 21.41c.39.39.9.59 1.41.59.51 0 1.02-.2 1.41-.59l7.78-7.78 2.81-2.81c.8-.78.8-2.07 0-2.86zM5.41 20L4 18.59l7.72-7.72 1.47 1.35L5.41 20z\"/>\n",
              "  </svg>\n",
              "      </button>\n",
              "      \n",
              "  <style>\n",
              "    .colab-df-container {\n",
              "      display:flex;\n",
              "      flex-wrap:wrap;\n",
              "      gap: 12px;\n",
              "    }\n",
              "\n",
              "    .colab-df-convert {\n",
              "      background-color: #E8F0FE;\n",
              "      border: none;\n",
              "      border-radius: 50%;\n",
              "      cursor: pointer;\n",
              "      display: none;\n",
              "      fill: #1967D2;\n",
              "      height: 32px;\n",
              "      padding: 0 0 0 0;\n",
              "      width: 32px;\n",
              "    }\n",
              "\n",
              "    .colab-df-convert:hover {\n",
              "      background-color: #E2EBFA;\n",
              "      box-shadow: 0px 1px 2px rgba(60, 64, 67, 0.3), 0px 1px 3px 1px rgba(60, 64, 67, 0.15);\n",
              "      fill: #174EA6;\n",
              "    }\n",
              "\n",
              "    [theme=dark] .colab-df-convert {\n",
              "      background-color: #3B4455;\n",
              "      fill: #D2E3FC;\n",
              "    }\n",
              "\n",
              "    [theme=dark] .colab-df-convert:hover {\n",
              "      background-color: #434B5C;\n",
              "      box-shadow: 0px 1px 3px 1px rgba(0, 0, 0, 0.15);\n",
              "      filter: drop-shadow(0px 1px 2px rgba(0, 0, 0, 0.3));\n",
              "      fill: #FFFFFF;\n",
              "    }\n",
              "  </style>\n",
              "\n",
              "      <script>\n",
              "        const buttonEl =\n",
              "          document.querySelector('#df-02c724eb-ab24-4f76-a074-4f757ba9a601 button.colab-df-convert');\n",
              "        buttonEl.style.display =\n",
              "          google.colab.kernel.accessAllowed ? 'block' : 'none';\n",
              "\n",
              "        async function convertToInteractive(key) {\n",
              "          const element = document.querySelector('#df-02c724eb-ab24-4f76-a074-4f757ba9a601');\n",
              "          const dataTable =\n",
              "            await google.colab.kernel.invokeFunction('convertToInteractive',\n",
              "                                                     [key], {});\n",
              "          if (!dataTable) return;\n",
              "\n",
              "          const docLinkHtml = 'Like what you see? Visit the ' +\n",
              "            '<a target=\"_blank\" href=https://colab.research.google.com/notebooks/data_table.ipynb>data table notebook</a>'\n",
              "            + ' to learn more about interactive tables.';\n",
              "          element.innerHTML = '';\n",
              "          dataTable['output_type'] = 'display_data';\n",
              "          await google.colab.output.renderOutput(dataTable, element);\n",
              "          const docLink = document.createElement('div');\n",
              "          docLink.innerHTML = docLinkHtml;\n",
              "          element.appendChild(docLink);\n",
              "        }\n",
              "      </script>\n",
              "    </div>\n",
              "  </div>\n",
              "  "
            ]
          },
          "metadata": {},
          "execution_count": 8
        }
      ]
    },
    {
      "cell_type": "markdown",
      "metadata": {
        "id": "_xYpH-sAJrFu"
      },
      "source": [
        "## Data preparation"
      ]
    },
    {
      "cell_type": "code",
      "metadata": {
        "id": "Lf8ufHH5JrFu",
        "outputId": "738dc47b-37a6-4ec9-ffcb-0bf4375838f5",
        "colab": {
          "base_uri": "https://localhost:8080/",
          "height": 455
        }
      },
      "source": [
        "# Inspect the dataframe to understand the given data.\n",
        "df.head()"
      ],
      "execution_count": 9,
      "outputs": [
        {
          "output_type": "execute_result",
          "data": {
            "text/plain": [
              "                _index      _type      _id  _score   _source.tags  \\\n",
              "0  complaint-public-v2  complaint  3211475     0.0           None   \n",
              "1  complaint-public-v2  complaint  3229299     0.0  Servicemember   \n",
              "2  complaint-public-v2  complaint  3199379     0.0           None   \n",
              "3  complaint-public-v2  complaint  2673060     0.0           None   \n",
              "4  complaint-public-v2  complaint  3203545     0.0           None   \n",
              "\n",
              "  _source.zip_code _source.complaint_id                       _source.issue  \\\n",
              "0            90301              3211475   Attempts to collect debt not owed   \n",
              "1            319XX              3229299     Written notification about debt   \n",
              "2            77069              3199379  Other features, terms, or problems   \n",
              "3            48066              2673060      Trouble during payment process   \n",
              "4            10473              3203545                    Fees or interest   \n",
              "\n",
              "       _source.date_received _source.state  ... _source.company_response  \\\n",
              "0  2019-04-13T12:00:00-05:00            CA  ...  Closed with explanation   \n",
              "1  2019-05-01T12:00:00-05:00            GA  ...  Closed with explanation   \n",
              "2  2019-04-02T12:00:00-05:00            TX  ...  Closed with explanation   \n",
              "3  2017-09-13T12:00:00-05:00            MI  ...  Closed with explanation   \n",
              "4  2019-04-05T12:00:00-05:00            NY  ...  Closed with explanation   \n",
              "\n",
              "        _source.company _source.submitted_via _source.date_sent_to_company  \\\n",
              "0  JPMORGAN CHASE & CO.                   Web    2019-04-13T12:00:00-05:00   \n",
              "1  JPMORGAN CHASE & CO.                   Web    2019-05-01T12:00:00-05:00   \n",
              "2  JPMORGAN CHASE & CO.                   Web    2019-04-02T12:00:00-05:00   \n",
              "3  JPMORGAN CHASE & CO.                   Web    2017-09-14T12:00:00-05:00   \n",
              "4  JPMORGAN CHASE & CO.              Referral    2019-04-05T12:00:00-05:00   \n",
              "\n",
              "  _source.company_public_response                         _source.sub_product  \\\n",
              "0                            None                            Credit card debt   \n",
              "1                            None                            Credit card debt   \n",
              "2                            None  General-purpose credit card or charge card   \n",
              "3                            None                  Conventional home mortgage   \n",
              "4                            None  General-purpose credit card or charge card   \n",
              "\n",
              "  _source.timely                    _source.complaint_what_happened  \\\n",
              "0            Yes                                                      \n",
              "1            Yes  Good morning my name is XXXX XXXX and I apprec...   \n",
              "2            Yes  I upgraded my XXXX XXXX card in XX/XX/2018 and...   \n",
              "3            Yes                                                      \n",
              "4            Yes                                                      \n",
              "\n",
              "                                  _source.sub_issue  \\\n",
              "0                                 Debt is not yours   \n",
              "1  Didn't receive enough information to verify debt   \n",
              "2             Problem with rewards from credit card   \n",
              "3                                              None   \n",
              "4                         Charged too much interest   \n",
              "\n",
              "  _source.consumer_consent_provided  \n",
              "0              Consent not provided  \n",
              "1                  Consent provided  \n",
              "2                  Consent provided  \n",
              "3              Consent not provided  \n",
              "4                               N/A  \n",
              "\n",
              "[5 rows x 22 columns]"
            ],
            "text/html": [
              "\n",
              "  <div id=\"df-47b8a6ef-cd6c-4918-82c0-e976ce8bd297\">\n",
              "    <div class=\"colab-df-container\">\n",
              "      <div>\n",
              "<style scoped>\n",
              "    .dataframe tbody tr th:only-of-type {\n",
              "        vertical-align: middle;\n",
              "    }\n",
              "\n",
              "    .dataframe tbody tr th {\n",
              "        vertical-align: top;\n",
              "    }\n",
              "\n",
              "    .dataframe thead th {\n",
              "        text-align: right;\n",
              "    }\n",
              "</style>\n",
              "<table border=\"1\" class=\"dataframe\">\n",
              "  <thead>\n",
              "    <tr style=\"text-align: right;\">\n",
              "      <th></th>\n",
              "      <th>_index</th>\n",
              "      <th>_type</th>\n",
              "      <th>_id</th>\n",
              "      <th>_score</th>\n",
              "      <th>_source.tags</th>\n",
              "      <th>_source.zip_code</th>\n",
              "      <th>_source.complaint_id</th>\n",
              "      <th>_source.issue</th>\n",
              "      <th>_source.date_received</th>\n",
              "      <th>_source.state</th>\n",
              "      <th>...</th>\n",
              "      <th>_source.company_response</th>\n",
              "      <th>_source.company</th>\n",
              "      <th>_source.submitted_via</th>\n",
              "      <th>_source.date_sent_to_company</th>\n",
              "      <th>_source.company_public_response</th>\n",
              "      <th>_source.sub_product</th>\n",
              "      <th>_source.timely</th>\n",
              "      <th>_source.complaint_what_happened</th>\n",
              "      <th>_source.sub_issue</th>\n",
              "      <th>_source.consumer_consent_provided</th>\n",
              "    </tr>\n",
              "  </thead>\n",
              "  <tbody>\n",
              "    <tr>\n",
              "      <th>0</th>\n",
              "      <td>complaint-public-v2</td>\n",
              "      <td>complaint</td>\n",
              "      <td>3211475</td>\n",
              "      <td>0.0</td>\n",
              "      <td>None</td>\n",
              "      <td>90301</td>\n",
              "      <td>3211475</td>\n",
              "      <td>Attempts to collect debt not owed</td>\n",
              "      <td>2019-04-13T12:00:00-05:00</td>\n",
              "      <td>CA</td>\n",
              "      <td>...</td>\n",
              "      <td>Closed with explanation</td>\n",
              "      <td>JPMORGAN CHASE &amp; CO.</td>\n",
              "      <td>Web</td>\n",
              "      <td>2019-04-13T12:00:00-05:00</td>\n",
              "      <td>None</td>\n",
              "      <td>Credit card debt</td>\n",
              "      <td>Yes</td>\n",
              "      <td></td>\n",
              "      <td>Debt is not yours</td>\n",
              "      <td>Consent not provided</td>\n",
              "    </tr>\n",
              "    <tr>\n",
              "      <th>1</th>\n",
              "      <td>complaint-public-v2</td>\n",
              "      <td>complaint</td>\n",
              "      <td>3229299</td>\n",
              "      <td>0.0</td>\n",
              "      <td>Servicemember</td>\n",
              "      <td>319XX</td>\n",
              "      <td>3229299</td>\n",
              "      <td>Written notification about debt</td>\n",
              "      <td>2019-05-01T12:00:00-05:00</td>\n",
              "      <td>GA</td>\n",
              "      <td>...</td>\n",
              "      <td>Closed with explanation</td>\n",
              "      <td>JPMORGAN CHASE &amp; CO.</td>\n",
              "      <td>Web</td>\n",
              "      <td>2019-05-01T12:00:00-05:00</td>\n",
              "      <td>None</td>\n",
              "      <td>Credit card debt</td>\n",
              "      <td>Yes</td>\n",
              "      <td>Good morning my name is XXXX XXXX and I apprec...</td>\n",
              "      <td>Didn't receive enough information to verify debt</td>\n",
              "      <td>Consent provided</td>\n",
              "    </tr>\n",
              "    <tr>\n",
              "      <th>2</th>\n",
              "      <td>complaint-public-v2</td>\n",
              "      <td>complaint</td>\n",
              "      <td>3199379</td>\n",
              "      <td>0.0</td>\n",
              "      <td>None</td>\n",
              "      <td>77069</td>\n",
              "      <td>3199379</td>\n",
              "      <td>Other features, terms, or problems</td>\n",
              "      <td>2019-04-02T12:00:00-05:00</td>\n",
              "      <td>TX</td>\n",
              "      <td>...</td>\n",
              "      <td>Closed with explanation</td>\n",
              "      <td>JPMORGAN CHASE &amp; CO.</td>\n",
              "      <td>Web</td>\n",
              "      <td>2019-04-02T12:00:00-05:00</td>\n",
              "      <td>None</td>\n",
              "      <td>General-purpose credit card or charge card</td>\n",
              "      <td>Yes</td>\n",
              "      <td>I upgraded my XXXX XXXX card in XX/XX/2018 and...</td>\n",
              "      <td>Problem with rewards from credit card</td>\n",
              "      <td>Consent provided</td>\n",
              "    </tr>\n",
              "    <tr>\n",
              "      <th>3</th>\n",
              "      <td>complaint-public-v2</td>\n",
              "      <td>complaint</td>\n",
              "      <td>2673060</td>\n",
              "      <td>0.0</td>\n",
              "      <td>None</td>\n",
              "      <td>48066</td>\n",
              "      <td>2673060</td>\n",
              "      <td>Trouble during payment process</td>\n",
              "      <td>2017-09-13T12:00:00-05:00</td>\n",
              "      <td>MI</td>\n",
              "      <td>...</td>\n",
              "      <td>Closed with explanation</td>\n",
              "      <td>JPMORGAN CHASE &amp; CO.</td>\n",
              "      <td>Web</td>\n",
              "      <td>2017-09-14T12:00:00-05:00</td>\n",
              "      <td>None</td>\n",
              "      <td>Conventional home mortgage</td>\n",
              "      <td>Yes</td>\n",
              "      <td></td>\n",
              "      <td>None</td>\n",
              "      <td>Consent not provided</td>\n",
              "    </tr>\n",
              "    <tr>\n",
              "      <th>4</th>\n",
              "      <td>complaint-public-v2</td>\n",
              "      <td>complaint</td>\n",
              "      <td>3203545</td>\n",
              "      <td>0.0</td>\n",
              "      <td>None</td>\n",
              "      <td>10473</td>\n",
              "      <td>3203545</td>\n",
              "      <td>Fees or interest</td>\n",
              "      <td>2019-04-05T12:00:00-05:00</td>\n",
              "      <td>NY</td>\n",
              "      <td>...</td>\n",
              "      <td>Closed with explanation</td>\n",
              "      <td>JPMORGAN CHASE &amp; CO.</td>\n",
              "      <td>Referral</td>\n",
              "      <td>2019-04-05T12:00:00-05:00</td>\n",
              "      <td>None</td>\n",
              "      <td>General-purpose credit card or charge card</td>\n",
              "      <td>Yes</td>\n",
              "      <td></td>\n",
              "      <td>Charged too much interest</td>\n",
              "      <td>N/A</td>\n",
              "    </tr>\n",
              "  </tbody>\n",
              "</table>\n",
              "<p>5 rows × 22 columns</p>\n",
              "</div>\n",
              "      <button class=\"colab-df-convert\" onclick=\"convertToInteractive('df-47b8a6ef-cd6c-4918-82c0-e976ce8bd297')\"\n",
              "              title=\"Convert this dataframe to an interactive table.\"\n",
              "              style=\"display:none;\">\n",
              "        \n",
              "  <svg xmlns=\"http://www.w3.org/2000/svg\" height=\"24px\"viewBox=\"0 0 24 24\"\n",
              "       width=\"24px\">\n",
              "    <path d=\"M0 0h24v24H0V0z\" fill=\"none\"/>\n",
              "    <path d=\"M18.56 5.44l.94 2.06.94-2.06 2.06-.94-2.06-.94-.94-2.06-.94 2.06-2.06.94zm-11 1L8.5 8.5l.94-2.06 2.06-.94-2.06-.94L8.5 2.5l-.94 2.06-2.06.94zm10 10l.94 2.06.94-2.06 2.06-.94-2.06-.94-.94-2.06-.94 2.06-2.06.94z\"/><path d=\"M17.41 7.96l-1.37-1.37c-.4-.4-.92-.59-1.43-.59-.52 0-1.04.2-1.43.59L10.3 9.45l-7.72 7.72c-.78.78-.78 2.05 0 2.83L4 21.41c.39.39.9.59 1.41.59.51 0 1.02-.2 1.41-.59l7.78-7.78 2.81-2.81c.8-.78.8-2.07 0-2.86zM5.41 20L4 18.59l7.72-7.72 1.47 1.35L5.41 20z\"/>\n",
              "  </svg>\n",
              "      </button>\n",
              "      \n",
              "  <style>\n",
              "    .colab-df-container {\n",
              "      display:flex;\n",
              "      flex-wrap:wrap;\n",
              "      gap: 12px;\n",
              "    }\n",
              "\n",
              "    .colab-df-convert {\n",
              "      background-color: #E8F0FE;\n",
              "      border: none;\n",
              "      border-radius: 50%;\n",
              "      cursor: pointer;\n",
              "      display: none;\n",
              "      fill: #1967D2;\n",
              "      height: 32px;\n",
              "      padding: 0 0 0 0;\n",
              "      width: 32px;\n",
              "    }\n",
              "\n",
              "    .colab-df-convert:hover {\n",
              "      background-color: #E2EBFA;\n",
              "      box-shadow: 0px 1px 2px rgba(60, 64, 67, 0.3), 0px 1px 3px 1px rgba(60, 64, 67, 0.15);\n",
              "      fill: #174EA6;\n",
              "    }\n",
              "\n",
              "    [theme=dark] .colab-df-convert {\n",
              "      background-color: #3B4455;\n",
              "      fill: #D2E3FC;\n",
              "    }\n",
              "\n",
              "    [theme=dark] .colab-df-convert:hover {\n",
              "      background-color: #434B5C;\n",
              "      box-shadow: 0px 1px 3px 1px rgba(0, 0, 0, 0.15);\n",
              "      filter: drop-shadow(0px 1px 2px rgba(0, 0, 0, 0.3));\n",
              "      fill: #FFFFFF;\n",
              "    }\n",
              "  </style>\n",
              "\n",
              "      <script>\n",
              "        const buttonEl =\n",
              "          document.querySelector('#df-47b8a6ef-cd6c-4918-82c0-e976ce8bd297 button.colab-df-convert');\n",
              "        buttonEl.style.display =\n",
              "          google.colab.kernel.accessAllowed ? 'block' : 'none';\n",
              "\n",
              "        async function convertToInteractive(key) {\n",
              "          const element = document.querySelector('#df-47b8a6ef-cd6c-4918-82c0-e976ce8bd297');\n",
              "          const dataTable =\n",
              "            await google.colab.kernel.invokeFunction('convertToInteractive',\n",
              "                                                     [key], {});\n",
              "          if (!dataTable) return;\n",
              "\n",
              "          const docLinkHtml = 'Like what you see? Visit the ' +\n",
              "            '<a target=\"_blank\" href=https://colab.research.google.com/notebooks/data_table.ipynb>data table notebook</a>'\n",
              "            + ' to learn more about interactive tables.';\n",
              "          element.innerHTML = '';\n",
              "          dataTable['output_type'] = 'display_data';\n",
              "          await google.colab.output.renderOutput(dataTable, element);\n",
              "          const docLink = document.createElement('div');\n",
              "          docLink.innerHTML = docLinkHtml;\n",
              "          element.appendChild(docLink);\n",
              "        }\n",
              "      </script>\n",
              "    </div>\n",
              "  </div>\n",
              "  "
            ]
          },
          "metadata": {},
          "execution_count": 9
        }
      ]
    },
    {
      "cell_type": "code",
      "metadata": {
        "id": "Dwcty-wmJrFw",
        "outputId": "7213eb31-fef2-48f8-b58a-987db3c5207d",
        "colab": {
          "base_uri": "https://localhost:8080/"
        }
      },
      "source": [
        "#print the column names\n",
        "df.columns"
      ],
      "execution_count": 10,
      "outputs": [
        {
          "output_type": "execute_result",
          "data": {
            "text/plain": [
              "Index(['_index', '_type', '_id', '_score', '_source.tags', '_source.zip_code',\n",
              "       '_source.complaint_id', '_source.issue', '_source.date_received',\n",
              "       '_source.state', '_source.consumer_disputed', '_source.product',\n",
              "       '_source.company_response', '_source.company', '_source.submitted_via',\n",
              "       '_source.date_sent_to_company', '_source.company_public_response',\n",
              "       '_source.sub_product', '_source.timely',\n",
              "       '_source.complaint_what_happened', '_source.sub_issue',\n",
              "       '_source.consumer_consent_provided'],\n",
              "      dtype='object')"
            ]
          },
          "metadata": {},
          "execution_count": 10
        }
      ]
    },
    {
      "cell_type": "code",
      "metadata": {
        "id": "FYCtKXD1JrFw"
      },
      "source": [
        "#Assign new column names\n",
        "new_names=['index', 'type', 'id', 'score', 'source.tags', 'source.zip_code',\n",
        "       'source.complaint_id', 'source.issue', 'source.date_received',\n",
        "       'source.state', 'source.consumer_disputed', 'source.product',\n",
        "       'source.company_response', 'source.company', 'source.submitted_via',\n",
        "       'source.date_sent_to_company', 'source.company_public_response',\n",
        "       'source.sub_product', 'source.timely',\n",
        "       'source.complaint_what_happened', 'source.sub_issue',\n",
        "       'source.consumer_consent_provided']\n",
        "df.columns=new_names\n"
      ],
      "execution_count": 11,
      "outputs": []
    },
    {
      "cell_type": "code",
      "source": [
        "df.head()"
      ],
      "metadata": {
        "id": "jLjTwTRFoAxc",
        "outputId": "5eafe8d4-e65d-4ecd-cba4-e28dd4730969",
        "colab": {
          "base_uri": "https://localhost:8080/",
          "height": 490
        }
      },
      "execution_count": 12,
      "outputs": [
        {
          "output_type": "execute_result",
          "data": {
            "text/plain": [
              "                 index       type       id  score    source.tags  \\\n",
              "0  complaint-public-v2  complaint  3211475    0.0           None   \n",
              "1  complaint-public-v2  complaint  3229299    0.0  Servicemember   \n",
              "2  complaint-public-v2  complaint  3199379    0.0           None   \n",
              "3  complaint-public-v2  complaint  2673060    0.0           None   \n",
              "4  complaint-public-v2  complaint  3203545    0.0           None   \n",
              "\n",
              "  source.zip_code source.complaint_id                        source.issue  \\\n",
              "0           90301             3211475   Attempts to collect debt not owed   \n",
              "1           319XX             3229299     Written notification about debt   \n",
              "2           77069             3199379  Other features, terms, or problems   \n",
              "3           48066             2673060      Trouble during payment process   \n",
              "4           10473             3203545                    Fees or interest   \n",
              "\n",
              "        source.date_received source.state  ...  source.company_response  \\\n",
              "0  2019-04-13T12:00:00-05:00           CA  ...  Closed with explanation   \n",
              "1  2019-05-01T12:00:00-05:00           GA  ...  Closed with explanation   \n",
              "2  2019-04-02T12:00:00-05:00           TX  ...  Closed with explanation   \n",
              "3  2017-09-13T12:00:00-05:00           MI  ...  Closed with explanation   \n",
              "4  2019-04-05T12:00:00-05:00           NY  ...  Closed with explanation   \n",
              "\n",
              "         source.company source.submitted_via source.date_sent_to_company  \\\n",
              "0  JPMORGAN CHASE & CO.                  Web   2019-04-13T12:00:00-05:00   \n",
              "1  JPMORGAN CHASE & CO.                  Web   2019-05-01T12:00:00-05:00   \n",
              "2  JPMORGAN CHASE & CO.                  Web   2019-04-02T12:00:00-05:00   \n",
              "3  JPMORGAN CHASE & CO.                  Web   2017-09-14T12:00:00-05:00   \n",
              "4  JPMORGAN CHASE & CO.             Referral   2019-04-05T12:00:00-05:00   \n",
              "\n",
              "  source.company_public_response                          source.sub_product  \\\n",
              "0                           None                            Credit card debt   \n",
              "1                           None                            Credit card debt   \n",
              "2                           None  General-purpose credit card or charge card   \n",
              "3                           None                  Conventional home mortgage   \n",
              "4                           None  General-purpose credit card or charge card   \n",
              "\n",
              "  source.timely                     source.complaint_what_happened  \\\n",
              "0           Yes                                                      \n",
              "1           Yes  Good morning my name is XXXX XXXX and I apprec...   \n",
              "2           Yes  I upgraded my XXXX XXXX card in XX/XX/2018 and...   \n",
              "3           Yes                                                      \n",
              "4           Yes                                                      \n",
              "\n",
              "                                   source.sub_issue  \\\n",
              "0                                 Debt is not yours   \n",
              "1  Didn't receive enough information to verify debt   \n",
              "2             Problem with rewards from credit card   \n",
              "3                                              None   \n",
              "4                         Charged too much interest   \n",
              "\n",
              "  source.consumer_consent_provided  \n",
              "0             Consent not provided  \n",
              "1                 Consent provided  \n",
              "2                 Consent provided  \n",
              "3             Consent not provided  \n",
              "4                              N/A  \n",
              "\n",
              "[5 rows x 22 columns]"
            ],
            "text/html": [
              "\n",
              "  <div id=\"df-0490a25d-194d-435f-9b6a-3a7dbf971336\">\n",
              "    <div class=\"colab-df-container\">\n",
              "      <div>\n",
              "<style scoped>\n",
              "    .dataframe tbody tr th:only-of-type {\n",
              "        vertical-align: middle;\n",
              "    }\n",
              "\n",
              "    .dataframe tbody tr th {\n",
              "        vertical-align: top;\n",
              "    }\n",
              "\n",
              "    .dataframe thead th {\n",
              "        text-align: right;\n",
              "    }\n",
              "</style>\n",
              "<table border=\"1\" class=\"dataframe\">\n",
              "  <thead>\n",
              "    <tr style=\"text-align: right;\">\n",
              "      <th></th>\n",
              "      <th>index</th>\n",
              "      <th>type</th>\n",
              "      <th>id</th>\n",
              "      <th>score</th>\n",
              "      <th>source.tags</th>\n",
              "      <th>source.zip_code</th>\n",
              "      <th>source.complaint_id</th>\n",
              "      <th>source.issue</th>\n",
              "      <th>source.date_received</th>\n",
              "      <th>source.state</th>\n",
              "      <th>...</th>\n",
              "      <th>source.company_response</th>\n",
              "      <th>source.company</th>\n",
              "      <th>source.submitted_via</th>\n",
              "      <th>source.date_sent_to_company</th>\n",
              "      <th>source.company_public_response</th>\n",
              "      <th>source.sub_product</th>\n",
              "      <th>source.timely</th>\n",
              "      <th>source.complaint_what_happened</th>\n",
              "      <th>source.sub_issue</th>\n",
              "      <th>source.consumer_consent_provided</th>\n",
              "    </tr>\n",
              "  </thead>\n",
              "  <tbody>\n",
              "    <tr>\n",
              "      <th>0</th>\n",
              "      <td>complaint-public-v2</td>\n",
              "      <td>complaint</td>\n",
              "      <td>3211475</td>\n",
              "      <td>0.0</td>\n",
              "      <td>None</td>\n",
              "      <td>90301</td>\n",
              "      <td>3211475</td>\n",
              "      <td>Attempts to collect debt not owed</td>\n",
              "      <td>2019-04-13T12:00:00-05:00</td>\n",
              "      <td>CA</td>\n",
              "      <td>...</td>\n",
              "      <td>Closed with explanation</td>\n",
              "      <td>JPMORGAN CHASE &amp; CO.</td>\n",
              "      <td>Web</td>\n",
              "      <td>2019-04-13T12:00:00-05:00</td>\n",
              "      <td>None</td>\n",
              "      <td>Credit card debt</td>\n",
              "      <td>Yes</td>\n",
              "      <td></td>\n",
              "      <td>Debt is not yours</td>\n",
              "      <td>Consent not provided</td>\n",
              "    </tr>\n",
              "    <tr>\n",
              "      <th>1</th>\n",
              "      <td>complaint-public-v2</td>\n",
              "      <td>complaint</td>\n",
              "      <td>3229299</td>\n",
              "      <td>0.0</td>\n",
              "      <td>Servicemember</td>\n",
              "      <td>319XX</td>\n",
              "      <td>3229299</td>\n",
              "      <td>Written notification about debt</td>\n",
              "      <td>2019-05-01T12:00:00-05:00</td>\n",
              "      <td>GA</td>\n",
              "      <td>...</td>\n",
              "      <td>Closed with explanation</td>\n",
              "      <td>JPMORGAN CHASE &amp; CO.</td>\n",
              "      <td>Web</td>\n",
              "      <td>2019-05-01T12:00:00-05:00</td>\n",
              "      <td>None</td>\n",
              "      <td>Credit card debt</td>\n",
              "      <td>Yes</td>\n",
              "      <td>Good morning my name is XXXX XXXX and I apprec...</td>\n",
              "      <td>Didn't receive enough information to verify debt</td>\n",
              "      <td>Consent provided</td>\n",
              "    </tr>\n",
              "    <tr>\n",
              "      <th>2</th>\n",
              "      <td>complaint-public-v2</td>\n",
              "      <td>complaint</td>\n",
              "      <td>3199379</td>\n",
              "      <td>0.0</td>\n",
              "      <td>None</td>\n",
              "      <td>77069</td>\n",
              "      <td>3199379</td>\n",
              "      <td>Other features, terms, or problems</td>\n",
              "      <td>2019-04-02T12:00:00-05:00</td>\n",
              "      <td>TX</td>\n",
              "      <td>...</td>\n",
              "      <td>Closed with explanation</td>\n",
              "      <td>JPMORGAN CHASE &amp; CO.</td>\n",
              "      <td>Web</td>\n",
              "      <td>2019-04-02T12:00:00-05:00</td>\n",
              "      <td>None</td>\n",
              "      <td>General-purpose credit card or charge card</td>\n",
              "      <td>Yes</td>\n",
              "      <td>I upgraded my XXXX XXXX card in XX/XX/2018 and...</td>\n",
              "      <td>Problem with rewards from credit card</td>\n",
              "      <td>Consent provided</td>\n",
              "    </tr>\n",
              "    <tr>\n",
              "      <th>3</th>\n",
              "      <td>complaint-public-v2</td>\n",
              "      <td>complaint</td>\n",
              "      <td>2673060</td>\n",
              "      <td>0.0</td>\n",
              "      <td>None</td>\n",
              "      <td>48066</td>\n",
              "      <td>2673060</td>\n",
              "      <td>Trouble during payment process</td>\n",
              "      <td>2017-09-13T12:00:00-05:00</td>\n",
              "      <td>MI</td>\n",
              "      <td>...</td>\n",
              "      <td>Closed with explanation</td>\n",
              "      <td>JPMORGAN CHASE &amp; CO.</td>\n",
              "      <td>Web</td>\n",
              "      <td>2017-09-14T12:00:00-05:00</td>\n",
              "      <td>None</td>\n",
              "      <td>Conventional home mortgage</td>\n",
              "      <td>Yes</td>\n",
              "      <td></td>\n",
              "      <td>None</td>\n",
              "      <td>Consent not provided</td>\n",
              "    </tr>\n",
              "    <tr>\n",
              "      <th>4</th>\n",
              "      <td>complaint-public-v2</td>\n",
              "      <td>complaint</td>\n",
              "      <td>3203545</td>\n",
              "      <td>0.0</td>\n",
              "      <td>None</td>\n",
              "      <td>10473</td>\n",
              "      <td>3203545</td>\n",
              "      <td>Fees or interest</td>\n",
              "      <td>2019-04-05T12:00:00-05:00</td>\n",
              "      <td>NY</td>\n",
              "      <td>...</td>\n",
              "      <td>Closed with explanation</td>\n",
              "      <td>JPMORGAN CHASE &amp; CO.</td>\n",
              "      <td>Referral</td>\n",
              "      <td>2019-04-05T12:00:00-05:00</td>\n",
              "      <td>None</td>\n",
              "      <td>General-purpose credit card or charge card</td>\n",
              "      <td>Yes</td>\n",
              "      <td></td>\n",
              "      <td>Charged too much interest</td>\n",
              "      <td>N/A</td>\n",
              "    </tr>\n",
              "  </tbody>\n",
              "</table>\n",
              "<p>5 rows × 22 columns</p>\n",
              "</div>\n",
              "      <button class=\"colab-df-convert\" onclick=\"convertToInteractive('df-0490a25d-194d-435f-9b6a-3a7dbf971336')\"\n",
              "              title=\"Convert this dataframe to an interactive table.\"\n",
              "              style=\"display:none;\">\n",
              "        \n",
              "  <svg xmlns=\"http://www.w3.org/2000/svg\" height=\"24px\"viewBox=\"0 0 24 24\"\n",
              "       width=\"24px\">\n",
              "    <path d=\"M0 0h24v24H0V0z\" fill=\"none\"/>\n",
              "    <path d=\"M18.56 5.44l.94 2.06.94-2.06 2.06-.94-2.06-.94-.94-2.06-.94 2.06-2.06.94zm-11 1L8.5 8.5l.94-2.06 2.06-.94-2.06-.94L8.5 2.5l-.94 2.06-2.06.94zm10 10l.94 2.06.94-2.06 2.06-.94-2.06-.94-.94-2.06-.94 2.06-2.06.94z\"/><path d=\"M17.41 7.96l-1.37-1.37c-.4-.4-.92-.59-1.43-.59-.52 0-1.04.2-1.43.59L10.3 9.45l-7.72 7.72c-.78.78-.78 2.05 0 2.83L4 21.41c.39.39.9.59 1.41.59.51 0 1.02-.2 1.41-.59l7.78-7.78 2.81-2.81c.8-.78.8-2.07 0-2.86zM5.41 20L4 18.59l7.72-7.72 1.47 1.35L5.41 20z\"/>\n",
              "  </svg>\n",
              "      </button>\n",
              "      \n",
              "  <style>\n",
              "    .colab-df-container {\n",
              "      display:flex;\n",
              "      flex-wrap:wrap;\n",
              "      gap: 12px;\n",
              "    }\n",
              "\n",
              "    .colab-df-convert {\n",
              "      background-color: #E8F0FE;\n",
              "      border: none;\n",
              "      border-radius: 50%;\n",
              "      cursor: pointer;\n",
              "      display: none;\n",
              "      fill: #1967D2;\n",
              "      height: 32px;\n",
              "      padding: 0 0 0 0;\n",
              "      width: 32px;\n",
              "    }\n",
              "\n",
              "    .colab-df-convert:hover {\n",
              "      background-color: #E2EBFA;\n",
              "      box-shadow: 0px 1px 2px rgba(60, 64, 67, 0.3), 0px 1px 3px 1px rgba(60, 64, 67, 0.15);\n",
              "      fill: #174EA6;\n",
              "    }\n",
              "\n",
              "    [theme=dark] .colab-df-convert {\n",
              "      background-color: #3B4455;\n",
              "      fill: #D2E3FC;\n",
              "    }\n",
              "\n",
              "    [theme=dark] .colab-df-convert:hover {\n",
              "      background-color: #434B5C;\n",
              "      box-shadow: 0px 1px 3px 1px rgba(0, 0, 0, 0.15);\n",
              "      filter: drop-shadow(0px 1px 2px rgba(0, 0, 0, 0.3));\n",
              "      fill: #FFFFFF;\n",
              "    }\n",
              "  </style>\n",
              "\n",
              "      <script>\n",
              "        const buttonEl =\n",
              "          document.querySelector('#df-0490a25d-194d-435f-9b6a-3a7dbf971336 button.colab-df-convert');\n",
              "        buttonEl.style.display =\n",
              "          google.colab.kernel.accessAllowed ? 'block' : 'none';\n",
              "\n",
              "        async function convertToInteractive(key) {\n",
              "          const element = document.querySelector('#df-0490a25d-194d-435f-9b6a-3a7dbf971336');\n",
              "          const dataTable =\n",
              "            await google.colab.kernel.invokeFunction('convertToInteractive',\n",
              "                                                     [key], {});\n",
              "          if (!dataTable) return;\n",
              "\n",
              "          const docLinkHtml = 'Like what you see? Visit the ' +\n",
              "            '<a target=\"_blank\" href=https://colab.research.google.com/notebooks/data_table.ipynb>data table notebook</a>'\n",
              "            + ' to learn more about interactive tables.';\n",
              "          element.innerHTML = '';\n",
              "          dataTable['output_type'] = 'display_data';\n",
              "          await google.colab.output.renderOutput(dataTable, element);\n",
              "          const docLink = document.createElement('div');\n",
              "          docLink.innerHTML = docLinkHtml;\n",
              "          element.appendChild(docLink);\n",
              "        }\n",
              "      </script>\n",
              "    </div>\n",
              "  </div>\n",
              "  "
            ]
          },
          "metadata": {},
          "execution_count": 12
        }
      ]
    },
    {
      "cell_type": "code",
      "metadata": {
        "id": "grQUPFL5JrFx"
      },
      "source": [
        "#Assign nan in place of blanks in the complaints column\n",
        "df['source.complaint_what_happened']=df['source.complaint_what_happened'].replace('',np.nan,regex = True)"
      ],
      "execution_count": 13,
      "outputs": []
    },
    {
      "cell_type": "code",
      "source": [
        "#Remove all rows where complaints column is nan\n",
        "\n",
        "df.dropna(subset=['source.complaint_what_happened'],inplace=True)\n",
        "\n",
        "pattern = r'^\\S+$'\n",
        "df = df[~df['source.complaint_what_happened'].str.contains(pattern)]\n",
        "\n",
        "# resetting index after removing nan values\n",
        "df=df.reset_index()"
      ],
      "metadata": {
        "id": "3AiCNnu7ZExK"
      },
      "execution_count": 14,
      "outputs": []
    },
    {
      "cell_type": "markdown",
      "metadata": {
        "id": "L944HZpsJrFy"
      },
      "source": [
        "## Prepare the text for topic modeling\n",
        "\n",
        "Once you have removed all the blank complaints, you need to:\n",
        "\n",
        "* Make the text lowercase\n",
        "* Remove text in square brackets\n",
        "* Remove punctuation\n",
        "* Remove words containing numbers\n",
        "\n",
        "\n",
        "Once you have done these cleaning operations you need to perform the following:\n",
        "* Lemmatize the texts\n",
        "* Extract the POS tags of the lemmatized text and remove all the words which have tags other than NN[tag == \"NN\"].\n"
      ]
    },
    {
      "cell_type": "code",
      "metadata": {
        "id": "qm7SjjSkJrFz"
      },
      "source": [
        "# Write your function here to clean the text and remove all the unnecessary elements.\n",
        "def clean_text(s):\n",
        "  s=s.lower()\n",
        "  s= re.sub(r'[^\\w\\s]', '', s)\n",
        "  s=re.sub(r'\\w*\\d\\w*', '', s).strip()\n",
        "  \n",
        "  return s"
      ],
      "execution_count": 15,
      "outputs": []
    },
    {
      "cell_type": "code",
      "source": [
        "for i in range(len(df['source.complaint_what_happened'])):\n",
        "  df['source.complaint_what_happened'][i]=clean_text(df['source.complaint_what_happened'][i])"
      ],
      "metadata": {
        "id": "_Fq57Wily83e",
        "outputId": "b478af82-1efa-4e70-c7fd-f5cfda42f4e1",
        "colab": {
          "base_uri": "https://localhost:8080/"
        }
      },
      "execution_count": 16,
      "outputs": [
        {
          "output_type": "stream",
          "name": "stderr",
          "text": [
            "<ipython-input-16-4aeaeed0ae0f>:2: SettingWithCopyWarning:\n",
            "\n",
            "\n",
            "A value is trying to be set on a copy of a slice from a DataFrame\n",
            "\n",
            "See the caveats in the documentation: https://pandas.pydata.org/pandas-docs/stable/user_guide/indexing.html#returning-a-view-versus-a-copy\n",
            "\n"
          ]
        }
      ]
    },
    {
      "cell_type": "code",
      "source": [
        "df['source.complaint_what_happened']=df['source.complaint_what_happened'].replace('',np.nan,regex = True)\n",
        "df.dropna(subset=['source.complaint_what_happened'],inplace=True)\n",
        "df=df.reset_index(drop=True)"
      ],
      "metadata": {
        "id": "Cgl0arJA0XVT"
      },
      "execution_count": 17,
      "outputs": []
    },
    {
      "cell_type": "code",
      "source": [
        "df['source.complaint_what_happened']"
      ],
      "metadata": {
        "id": "J5AEW14VvWVZ",
        "outputId": "e8869c32-4f34-49f7-96b5-f27c24117b22",
        "colab": {
          "base_uri": "https://localhost:8080/"
        }
      },
      "execution_count": 18,
      "outputs": [
        {
          "output_type": "execute_result",
          "data": {
            "text/plain": [
              "0        good morning my name is xxxx xxxx and i apprec...\n",
              "1        i upgraded my xxxx xxxx card in  and was told ...\n",
              "2        chase card was reported on  however fraudulent...\n",
              "3        on  while trying to book a xxxx  xxxx  ticket ...\n",
              "4        my grand son give me check for  i deposit it i...\n",
              "                               ...                        \n",
              "21063    after being a chase card customer for well ove...\n",
              "21064    on wednesday xxxxxxxx i called chas my xxxx xx...\n",
              "21065    i am not familiar with xxxx pay and did not un...\n",
              "21066    i have had flawless credit for  yrs ive had ch...\n",
              "21067    roughly  years ago i closed out my accounts wi...\n",
              "Name: source.complaint_what_happened, Length: 21068, dtype: object"
            ]
          },
          "metadata": {},
          "execution_count": 18
        }
      ]
    },
    {
      "cell_type": "code",
      "source": [
        "s1=\"Hello1, World!@!. 123, ABV  AS12\"\n",
        "clean_text(s1)\n",
        "clean_text(df['source.complaint_what_happened'][110])"
      ],
      "metadata": {
        "id": "kSbrs3fKvA7R",
        "outputId": "5b4a2726-a922-4072-8686-4073d732ce1b",
        "colab": {
          "base_uri": "https://localhost:8080/",
          "height": 123
        }
      },
      "execution_count": 19,
      "outputs": [
        {
          "output_type": "execute_result",
          "data": {
            "text/plain": [
              "'i received an offer from chase xxxx visa promising a companion airline pass xxxx bonus points for opening a chase xxxx visa card i applied for the card online in xxxxxxxx providing my current email address phone number and address i was approved in xxxx i requested paperless billing statementscorrespondence and assumed that my current contact information provided at time of approval would be utilized by chase for the xxxx xxxx \\n\\nhaving previous chase credit card products i was able to log into my online account and setup automatic bill payment for my account i used my card as needed to earn the companion pass and bonus points and assumed the auto payments were being made from my checking account as i viewed line items that had chase in the description and as i was not receiving paper statementsemails or phone calls from chase regarding my xxxx account \\n\\nin reviewing my checking account statement in xxxx and realizing the that the chase line item was actually an auto payment for one of my husbands credit cards and was not in fact for the xxxx visa card i reached out to chase xxxx visa immediately \\n\\non xxxxxxxx i reached out to the customer service phone number listed on the back of my card  payments are due on the xxxx of the month  to learn that i was  days past due and explained that auto payment had been requested on my end via the online tool which they explained could take  business cycles but did not appear to have gone into affect \\n\\nadditionally i learned that they did not have the correct contact information in the system but instead had reached out to old email addresses and telephone contact information from previous accounts that had auto populated instead of using the correct information i had provided at the time of application \\n\\ni made a payment by phone immediately to payoff the entire balance requested auto payment to be setup and confirmed on their end as well as requested that the current contact information be setup in the system to avoid missing communications in the future \\n\\nthey made notation in the account of the challenge reversed all late charges and ensured me that the late payment would not be reported to the credit bureau due to the banking error also confirmed that i had met the required spend to earn the bonus and given the banking error reversal of late charges payment in full and notation that i would be eligible to receive the companion pass and bonus points which i have received this reassured me that there would not be any negative credit reporting as it appeared that they had addressed the issue on their end \\n\\nall subsequent payments have been made on time and as of xxxxxxxx the account has a  balance due to charges made after payment in full \\n\\nin xxxxxxxx i received an email from xxxx alert service that i subscribe to that my credit score had decreased from xxxx to xxxx i opened the xxxx file which stated a late payment was reported by chase for xxxx i filed a dispute and in xxxx received an email from xxxx  stating the dispute had been resolved upon further investigation it noted that the negative reporting was not being removed \\n\\ni contacted chase xxxx visa explained the negative reporting the agent reviewed the notes in the account and verified that they had made notation of the banking error due to the internet site not correctly setting up auto payment and the reversal of all late charges they stated that the  credit bureau unit  was not currently open and requested i call back the next day and request to speak to the unit as they would be able to to correct the information \\n\\ni followed the advice and spoke with xxxx cbu specialist in the xxxx mo call center after a long period of discussion xxxx informed me that there was nothing that he could do to update the file and remove the late payment reporting to the bureau \\n\\nafter requesting all notation on my file he advised i send a fax to the  business office  at  xxxx  xxxx but that there was not a live person to speak with nor an email that i could send the request to \\n\\ni asked to speak to his supervisor at which point he transferred me away from his department to a supervisor in the customer service department without telling me that he was actually transferring me out of the credit bureau unit back to xxxx customer service \\n\\nin speaking with xxxx in customer service i believed that i was still speaking to the credit bureau department i recalled all events she confirmed the notation in the account additionally i advised her that even after multiple attempts and confirmation that my current contact information had been updated that on xxxxxxxx my online account was still displaying old contact information as the default for all chase accounts i was able to uncover this while attempting to log into my account i received a screen that stated that i needed to enter a code to proceed and the phone numbersemail that were prepopulated by the website to receive the codes were outdated information i had to call the phone number listed to receive the access code and that once i was able to gain access into the account i confirmed that that while my current contact information was listed the default contact information that was highlighted on the top was actually old out dated information \\n\\ni explained to her that when i tried to update the info on the site it would not allow me to delete the old info or update the current info to be set as the default for the account she assisted with updating on her end had me log out and log back in to confirm that the correct information was now showing on my end as the default contact information \\n\\ngiven all of the challenges with the site that have been noted extensively as well as the notation of the banking challenge due to the malfunction of the auto payment setup i asked if she would be able to assist with removing the negative reporting at this point she advised me that i had been transferred out of the credit bureau department and that she would attempt to connect with a credit bureau specialist to see what could be done i explained that i had already spoken with xxxx in that department and that i was hoping to speak with his supervisor when he had transferred me to her she stated that the supervisors in that department can take up to  days to provide a call back \\n\\nshe then got another credit bureau specialist on the phone named xxxx explained the situation and xxxx told her that there  was nothing that he could do to assist  \\n\\ni have never been late with a payment across all accounts i have spent numerous hours trying to resolve this matter with jp morgan chasexxxx as a result of chasexxxx xxxx it appears that my diligence to setup auto payment  provide current contact information for my account were not feasible and will now have a significant impact on the cost of credit that i will be seeking for a new home purchase mortgage given that my credit rating went from  outstanding  to  good  and is the main tool used by lenders for determining interest rates offered \\n\\ni am reaching out to you in hopes that you will be able to   assist with restoring my credit due to bankingit error on the part of the credit card issuer   by sharing my story prevent another person from being lured into getting a credit card from chase and have to deal with the same challenges i have faced'"
            ],
            "application/vnd.google.colaboratory.intrinsic+json": {
              "type": "string"
            }
          },
          "metadata": {},
          "execution_count": 19
        }
      ]
    },
    {
      "cell_type": "code",
      "metadata": {
        "id": "zgOu8t8HJrFz"
      },
      "source": [
        "#Write your function to Lemmatize the texts\n",
        "def LemmatizeTexts(s):\n",
        "  lemmatizer = WordNetLemmatizer()\n",
        "  doc = nlp(s)\n",
        " \n",
        "  # Create list of tokens from given string\n",
        "  tokens = []\n",
        "  for token in doc:\n",
        "      tokens.append(token)\n",
        "  \n",
        "  lemmatized_sentence = \" \".join([token.lemma_ for token in doc])\n",
        "  return lemmatized_sentence"
      ],
      "execution_count": 20,
      "outputs": []
    },
    {
      "cell_type": "code",
      "source": [
        "#[Debugging]: For Checking if function is working or not\n",
        "\n",
        "#LemmatizeTexts(df['source.complaint_what_happened'][2812])\n",
        "#df['source.complaint_what_happened'][2812]"
      ],
      "metadata": {
        "colab": {
          "base_uri": "https://localhost:8080/",
          "height": 123
        },
        "id": "Y3HME5XRqJzl",
        "outputId": "4fbf782d-de5a-4bba-ba12-c835170f05f8"
      },
      "execution_count": 21,
      "outputs": [
        {
          "output_type": "execute_result",
          "data": {
            "text/plain": [
              "'i opened an amazon rewards credit card through chase bank in xxxx of  \\n\\ni opened this card because i make a lot of purchases through amazon and i would get cash back and i was under the impression i would have an interest free period for  months \\n\\napparently i havent been checking my statement very well because i just noticed that i was being charged interest dating back since xxxx of  \\n\\nthe most recent interest charges were on xxxxxxxx for  and xxxxxxxx for   there were  more months i was also charged interest  \\n\\ni called chase and inquired about this issue  i spoke with an associated who identified herself as xxxx  i was informed that i did not have to pay interest on amazon purchases but i would have to pay interest on other purchases made through this card i informed them i found this misleading for a few reasons   i have paperwork that seems to say i have   apr on my amazon card purchases \\n i was not charged interest for the first few months of having this credit card so i assumed the benefits were working as i thought they should \\n\\ni asked if it was possible to have a few of my most recent interest charges refunded i was told no that was not possible despite giving me misleading information \\n\\ni told xxxx that i would be filing a complaint with the cfpb and closing my account in the following weeks'"
            ],
            "application/vnd.google.colaboratory.intrinsic+json": {
              "type": "string"
            }
          },
          "metadata": {},
          "execution_count": 21
        }
      ]
    },
    {
      "cell_type": "code",
      "source": [
        "lemmatized_texts_list=[]\n",
        "for i in range(len(df['source.complaint_what_happened'])):\n",
        "  lemmatized_texts_list.append(LemmatizeTexts(df['source.complaint_what_happened'][i]))\n",
        "\n",
        "lemmatized_texts=pd.DataFrame(lemmatized_texts_list)\n",
        "lemmatized_texts.columns=['lemmatized_text']\n",
        "\n",
        "lemmatized_texts.head()  "
      ],
      "metadata": {
        "colab": {
          "base_uri": "https://localhost:8080/",
          "height": 206
        },
        "id": "lhOMXkbXuFwo",
        "outputId": "cc8167ee-4af2-490e-b3a0-4eeae2a3f425"
      },
      "execution_count": 22,
      "outputs": [
        {
          "output_type": "execute_result",
          "data": {
            "text/plain": [
              "                                                   0\n",
              "0  good morning my name be xxxx xxxx and I apprec...\n",
              "1  I upgrade my xxxx xxxx card in   and be tell b...\n",
              "2  chase card be report on   however fraudulent a...\n",
              "3  on   while try to book a xxxx   xxxx   ticket ...\n",
              "4  my grand son give I check for   I deposit it i..."
            ],
            "text/html": [
              "\n",
              "  <div id=\"df-0a9d9dd7-d606-48d6-9053-d9d082fbaa74\">\n",
              "    <div class=\"colab-df-container\">\n",
              "      <div>\n",
              "<style scoped>\n",
              "    .dataframe tbody tr th:only-of-type {\n",
              "        vertical-align: middle;\n",
              "    }\n",
              "\n",
              "    .dataframe tbody tr th {\n",
              "        vertical-align: top;\n",
              "    }\n",
              "\n",
              "    .dataframe thead th {\n",
              "        text-align: right;\n",
              "    }\n",
              "</style>\n",
              "<table border=\"1\" class=\"dataframe\">\n",
              "  <thead>\n",
              "    <tr style=\"text-align: right;\">\n",
              "      <th></th>\n",
              "      <th>0</th>\n",
              "    </tr>\n",
              "  </thead>\n",
              "  <tbody>\n",
              "    <tr>\n",
              "      <th>0</th>\n",
              "      <td>good morning my name be xxxx xxxx and I apprec...</td>\n",
              "    </tr>\n",
              "    <tr>\n",
              "      <th>1</th>\n",
              "      <td>I upgrade my xxxx xxxx card in   and be tell b...</td>\n",
              "    </tr>\n",
              "    <tr>\n",
              "      <th>2</th>\n",
              "      <td>chase card be report on   however fraudulent a...</td>\n",
              "    </tr>\n",
              "    <tr>\n",
              "      <th>3</th>\n",
              "      <td>on   while try to book a xxxx   xxxx   ticket ...</td>\n",
              "    </tr>\n",
              "    <tr>\n",
              "      <th>4</th>\n",
              "      <td>my grand son give I check for   I deposit it i...</td>\n",
              "    </tr>\n",
              "  </tbody>\n",
              "</table>\n",
              "</div>\n",
              "      <button class=\"colab-df-convert\" onclick=\"convertToInteractive('df-0a9d9dd7-d606-48d6-9053-d9d082fbaa74')\"\n",
              "              title=\"Convert this dataframe to an interactive table.\"\n",
              "              style=\"display:none;\">\n",
              "        \n",
              "  <svg xmlns=\"http://www.w3.org/2000/svg\" height=\"24px\"viewBox=\"0 0 24 24\"\n",
              "       width=\"24px\">\n",
              "    <path d=\"M0 0h24v24H0V0z\" fill=\"none\"/>\n",
              "    <path d=\"M18.56 5.44l.94 2.06.94-2.06 2.06-.94-2.06-.94-.94-2.06-.94 2.06-2.06.94zm-11 1L8.5 8.5l.94-2.06 2.06-.94-2.06-.94L8.5 2.5l-.94 2.06-2.06.94zm10 10l.94 2.06.94-2.06 2.06-.94-2.06-.94-.94-2.06-.94 2.06-2.06.94z\"/><path d=\"M17.41 7.96l-1.37-1.37c-.4-.4-.92-.59-1.43-.59-.52 0-1.04.2-1.43.59L10.3 9.45l-7.72 7.72c-.78.78-.78 2.05 0 2.83L4 21.41c.39.39.9.59 1.41.59.51 0 1.02-.2 1.41-.59l7.78-7.78 2.81-2.81c.8-.78.8-2.07 0-2.86zM5.41 20L4 18.59l7.72-7.72 1.47 1.35L5.41 20z\"/>\n",
              "  </svg>\n",
              "      </button>\n",
              "      \n",
              "  <style>\n",
              "    .colab-df-container {\n",
              "      display:flex;\n",
              "      flex-wrap:wrap;\n",
              "      gap: 12px;\n",
              "    }\n",
              "\n",
              "    .colab-df-convert {\n",
              "      background-color: #E8F0FE;\n",
              "      border: none;\n",
              "      border-radius: 50%;\n",
              "      cursor: pointer;\n",
              "      display: none;\n",
              "      fill: #1967D2;\n",
              "      height: 32px;\n",
              "      padding: 0 0 0 0;\n",
              "      width: 32px;\n",
              "    }\n",
              "\n",
              "    .colab-df-convert:hover {\n",
              "      background-color: #E2EBFA;\n",
              "      box-shadow: 0px 1px 2px rgba(60, 64, 67, 0.3), 0px 1px 3px 1px rgba(60, 64, 67, 0.15);\n",
              "      fill: #174EA6;\n",
              "    }\n",
              "\n",
              "    [theme=dark] .colab-df-convert {\n",
              "      background-color: #3B4455;\n",
              "      fill: #D2E3FC;\n",
              "    }\n",
              "\n",
              "    [theme=dark] .colab-df-convert:hover {\n",
              "      background-color: #434B5C;\n",
              "      box-shadow: 0px 1px 3px 1px rgba(0, 0, 0, 0.15);\n",
              "      filter: drop-shadow(0px 1px 2px rgba(0, 0, 0, 0.3));\n",
              "      fill: #FFFFFF;\n",
              "    }\n",
              "  </style>\n",
              "\n",
              "      <script>\n",
              "        const buttonEl =\n",
              "          document.querySelector('#df-0a9d9dd7-d606-48d6-9053-d9d082fbaa74 button.colab-df-convert');\n",
              "        buttonEl.style.display =\n",
              "          google.colab.kernel.accessAllowed ? 'block' : 'none';\n",
              "\n",
              "        async function convertToInteractive(key) {\n",
              "          const element = document.querySelector('#df-0a9d9dd7-d606-48d6-9053-d9d082fbaa74');\n",
              "          const dataTable =\n",
              "            await google.colab.kernel.invokeFunction('convertToInteractive',\n",
              "                                                     [key], {});\n",
              "          if (!dataTable) return;\n",
              "\n",
              "          const docLinkHtml = 'Like what you see? Visit the ' +\n",
              "            '<a target=\"_blank\" href=https://colab.research.google.com/notebooks/data_table.ipynb>data table notebook</a>'\n",
              "            + ' to learn more about interactive tables.';\n",
              "          element.innerHTML = '';\n",
              "          dataTable['output_type'] = 'display_data';\n",
              "          await google.colab.output.renderOutput(dataTable, element);\n",
              "          const docLink = document.createElement('div');\n",
              "          docLink.innerHTML = docLinkHtml;\n",
              "          element.appendChild(docLink);\n",
              "        }\n",
              "      </script>\n",
              "    </div>\n",
              "  </div>\n",
              "  "
            ]
          },
          "metadata": {},
          "execution_count": 22
        }
      ]
    },
    {
      "cell_type": "code",
      "metadata": {
        "id": "uXnN7aa_JrF0",
        "colab": {
          "base_uri": "https://localhost:8080/",
          "height": 206
        },
        "outputId": "bbad288c-a83c-4338-eba1-fea2ddc52459"
      },
      "source": [
        "#Create a dataframe('df_clean') that will have only the complaints and the lemmatized complaints \n",
        "\n",
        "d11 = {'complaints': df['source.complaint_what_happened'], 'lemmatized_texts':lemmatized_texts['lemmatized_text']}\n",
        "df_clean = pd.DataFrame(data=d11)\n",
        "df_clean.head()"
      ],
      "execution_count": 25,
      "outputs": [
        {
          "output_type": "execute_result",
          "data": {
            "text/plain": [
              "                                          complaints  \\\n",
              "0  good morning my name is xxxx xxxx and i apprec...   \n",
              "1  i upgraded my xxxx xxxx card in  and was told ...   \n",
              "2  chase card was reported on  however fraudulent...   \n",
              "3  on  while trying to book a xxxx  xxxx  ticket ...   \n",
              "4  my grand son give me check for  i deposit it i...   \n",
              "\n",
              "                                    lemmatized_texts  \n",
              "0  good morning my name be xxxx xxxx and I apprec...  \n",
              "1  I upgrade my xxxx xxxx card in   and be tell b...  \n",
              "2  chase card be report on   however fraudulent a...  \n",
              "3  on   while try to book a xxxx   xxxx   ticket ...  \n",
              "4  my grand son give I check for   I deposit it i...  "
            ],
            "text/html": [
              "\n",
              "  <div id=\"df-f18b9470-9d9a-4dd3-99ac-691dcb2bf3b3\">\n",
              "    <div class=\"colab-df-container\">\n",
              "      <div>\n",
              "<style scoped>\n",
              "    .dataframe tbody tr th:only-of-type {\n",
              "        vertical-align: middle;\n",
              "    }\n",
              "\n",
              "    .dataframe tbody tr th {\n",
              "        vertical-align: top;\n",
              "    }\n",
              "\n",
              "    .dataframe thead th {\n",
              "        text-align: right;\n",
              "    }\n",
              "</style>\n",
              "<table border=\"1\" class=\"dataframe\">\n",
              "  <thead>\n",
              "    <tr style=\"text-align: right;\">\n",
              "      <th></th>\n",
              "      <th>complaints</th>\n",
              "      <th>lemmatized_texts</th>\n",
              "    </tr>\n",
              "  </thead>\n",
              "  <tbody>\n",
              "    <tr>\n",
              "      <th>0</th>\n",
              "      <td>good morning my name is xxxx xxxx and i apprec...</td>\n",
              "      <td>good morning my name be xxxx xxxx and I apprec...</td>\n",
              "    </tr>\n",
              "    <tr>\n",
              "      <th>1</th>\n",
              "      <td>i upgraded my xxxx xxxx card in  and was told ...</td>\n",
              "      <td>I upgrade my xxxx xxxx card in   and be tell b...</td>\n",
              "    </tr>\n",
              "    <tr>\n",
              "      <th>2</th>\n",
              "      <td>chase card was reported on  however fraudulent...</td>\n",
              "      <td>chase card be report on   however fraudulent a...</td>\n",
              "    </tr>\n",
              "    <tr>\n",
              "      <th>3</th>\n",
              "      <td>on  while trying to book a xxxx  xxxx  ticket ...</td>\n",
              "      <td>on   while try to book a xxxx   xxxx   ticket ...</td>\n",
              "    </tr>\n",
              "    <tr>\n",
              "      <th>4</th>\n",
              "      <td>my grand son give me check for  i deposit it i...</td>\n",
              "      <td>my grand son give I check for   I deposit it i...</td>\n",
              "    </tr>\n",
              "  </tbody>\n",
              "</table>\n",
              "</div>\n",
              "      <button class=\"colab-df-convert\" onclick=\"convertToInteractive('df-f18b9470-9d9a-4dd3-99ac-691dcb2bf3b3')\"\n",
              "              title=\"Convert this dataframe to an interactive table.\"\n",
              "              style=\"display:none;\">\n",
              "        \n",
              "  <svg xmlns=\"http://www.w3.org/2000/svg\" height=\"24px\"viewBox=\"0 0 24 24\"\n",
              "       width=\"24px\">\n",
              "    <path d=\"M0 0h24v24H0V0z\" fill=\"none\"/>\n",
              "    <path d=\"M18.56 5.44l.94 2.06.94-2.06 2.06-.94-2.06-.94-.94-2.06-.94 2.06-2.06.94zm-11 1L8.5 8.5l.94-2.06 2.06-.94-2.06-.94L8.5 2.5l-.94 2.06-2.06.94zm10 10l.94 2.06.94-2.06 2.06-.94-2.06-.94-.94-2.06-.94 2.06-2.06.94z\"/><path d=\"M17.41 7.96l-1.37-1.37c-.4-.4-.92-.59-1.43-.59-.52 0-1.04.2-1.43.59L10.3 9.45l-7.72 7.72c-.78.78-.78 2.05 0 2.83L4 21.41c.39.39.9.59 1.41.59.51 0 1.02-.2 1.41-.59l7.78-7.78 2.81-2.81c.8-.78.8-2.07 0-2.86zM5.41 20L4 18.59l7.72-7.72 1.47 1.35L5.41 20z\"/>\n",
              "  </svg>\n",
              "      </button>\n",
              "      \n",
              "  <style>\n",
              "    .colab-df-container {\n",
              "      display:flex;\n",
              "      flex-wrap:wrap;\n",
              "      gap: 12px;\n",
              "    }\n",
              "\n",
              "    .colab-df-convert {\n",
              "      background-color: #E8F0FE;\n",
              "      border: none;\n",
              "      border-radius: 50%;\n",
              "      cursor: pointer;\n",
              "      display: none;\n",
              "      fill: #1967D2;\n",
              "      height: 32px;\n",
              "      padding: 0 0 0 0;\n",
              "      width: 32px;\n",
              "    }\n",
              "\n",
              "    .colab-df-convert:hover {\n",
              "      background-color: #E2EBFA;\n",
              "      box-shadow: 0px 1px 2px rgba(60, 64, 67, 0.3), 0px 1px 3px 1px rgba(60, 64, 67, 0.15);\n",
              "      fill: #174EA6;\n",
              "    }\n",
              "\n",
              "    [theme=dark] .colab-df-convert {\n",
              "      background-color: #3B4455;\n",
              "      fill: #D2E3FC;\n",
              "    }\n",
              "\n",
              "    [theme=dark] .colab-df-convert:hover {\n",
              "      background-color: #434B5C;\n",
              "      box-shadow: 0px 1px 3px 1px rgba(0, 0, 0, 0.15);\n",
              "      filter: drop-shadow(0px 1px 2px rgba(0, 0, 0, 0.3));\n",
              "      fill: #FFFFFF;\n",
              "    }\n",
              "  </style>\n",
              "\n",
              "      <script>\n",
              "        const buttonEl =\n",
              "          document.querySelector('#df-f18b9470-9d9a-4dd3-99ac-691dcb2bf3b3 button.colab-df-convert');\n",
              "        buttonEl.style.display =\n",
              "          google.colab.kernel.accessAllowed ? 'block' : 'none';\n",
              "\n",
              "        async function convertToInteractive(key) {\n",
              "          const element = document.querySelector('#df-f18b9470-9d9a-4dd3-99ac-691dcb2bf3b3');\n",
              "          const dataTable =\n",
              "            await google.colab.kernel.invokeFunction('convertToInteractive',\n",
              "                                                     [key], {});\n",
              "          if (!dataTable) return;\n",
              "\n",
              "          const docLinkHtml = 'Like what you see? Visit the ' +\n",
              "            '<a target=\"_blank\" href=https://colab.research.google.com/notebooks/data_table.ipynb>data table notebook</a>'\n",
              "            + ' to learn more about interactive tables.';\n",
              "          element.innerHTML = '';\n",
              "          dataTable['output_type'] = 'display_data';\n",
              "          await google.colab.output.renderOutput(dataTable, element);\n",
              "          const docLink = document.createElement('div');\n",
              "          docLink.innerHTML = docLinkHtml;\n",
              "          element.appendChild(docLink);\n",
              "        }\n",
              "      </script>\n",
              "    </div>\n",
              "  </div>\n",
              "  "
            ]
          },
          "metadata": {},
          "execution_count": 25
        }
      ]
    },
    {
      "cell_type": "code",
      "metadata": {
        "id": "Kk7fc4DuJrF1"
      },
      "source": [
        "#Write your function to extract the POS tags \n",
        "stop_words = set(stopwords.words('english'))\n",
        "\n",
        "def pos_tag(sentence):\n",
        "  tokenized = sent_tokenize(sentence)\n",
        "  for i in tokenized:\n",
        "     \n",
        "    # Word tokenizers is used to find the words\n",
        "    # and punctuation in a string\n",
        "    wordsList = nltk.word_tokenize(i)\n",
        " \n",
        "    # removing stop words from wordList\n",
        "    wordsList = [w for w in wordsList if not w in stop_words]\n",
        " \n",
        "    #  Using a Tagger. Which is part-of-speech\n",
        "    # tagger or POS-tagger.\n",
        "    tagged = nltk.pos_tag(wordsList)\n",
        "    sent_clean = [x for (x,y) in tagged if y not in ('NN')]\n",
        "    \n",
        "  return sent_clean\n",
        "\n",
        "#df_clean[\"complaint_POS_removed\"] =  #this column should contain lemmatized text with all the words removed which have tags other than NN[tag == \"NN\"].\n"
      ],
      "execution_count": 26,
      "outputs": []
    },
    {
      "cell_type": "code",
      "source": [
        "# [Debugging]: To check if function is working or not\n",
        "pos_tag(df_clean['lemmatized_texts'][212])"
      ],
      "metadata": {
        "id": "VWO_O1_4K6DU"
      },
      "execution_count": null,
      "outputs": []
    },
    {
      "cell_type": "code",
      "source": [
        "complaint_POS_removed_list=[]\n",
        "for i in range(len(df_clean['lemmatized_texts'])):\n",
        "  complaint_POS_removed_list.append(pos_tag(df_clean['lemmatized_texts'][i]))\n"
      ],
      "metadata": {
        "id": "AHTgDc8UEtFL"
      },
      "execution_count": null,
      "outputs": []
    },
    {
      "cell_type": "code",
      "source": [
        "len(complaint_POS_removed_list[100])\n",
        "#abcd = pd.DataFrame(complaint_POS_removed_list, columns=['complaint_POS_removed'])\n",
        "#abcd.head()\n",
        "#pos_tag(df_clean['lemmatized_texts'][15])"
      ],
      "metadata": {
        "colab": {
          "base_uri": "https://localhost:8080/"
        },
        "id": "70GsQuhL8hwM",
        "outputId": "c4a9b928-cb49-4c86-9321-a616c76fff16"
      },
      "execution_count": 47,
      "outputs": [
        {
          "output_type": "execute_result",
          "data": {
            "text/plain": [
              "474"
            ]
          },
          "metadata": {},
          "execution_count": 47
        }
      ]
    },
    {
      "cell_type": "code",
      "source": [
        "len(complaint_POS_removed_list)\n",
        "complaint_POS_removed.head()\n",
        "complaint_POS_removed_list[2]"
      ],
      "metadata": {
        "id": "O2rPqWKnlj5A"
      },
      "execution_count": null,
      "outputs": []
    },
    {
      "cell_type": "code",
      "metadata": {
        "id": "AjxfchvFJrF2"
      },
      "source": [
        "#The clean dataframe should now contain the raw complaint, lemmatized complaint and the complaint after removing POS tags.\n",
        "#df_clean['complaint_POS_removed']=complaint_POS_removed\n",
        "complaint_POS_removed"
      ],
      "execution_count": null,
      "outputs": []
    },
    {
      "cell_type": "markdown",
      "metadata": {
        "id": "_7Un1AElJrF2"
      },
      "source": [
        "## Exploratory data analysis to get familiar with the data.\n",
        "\n",
        "Write the code in this task to perform the following:\n",
        "\n",
        "*   Visualise the data according to the 'Complaint' character length\n",
        "*   Using a word cloud find the top 40 words by frequency among all the articles after processing the text\n",
        "*   Find the top unigrams,bigrams and trigrams by frequency among all the complaints after processing the text. ‘\n",
        "\n",
        "\n"
      ]
    },
    {
      "cell_type": "code",
      "metadata": {
        "id": "q-zaqJF6JrF2"
      },
      "source": [
        "# Write your code here to visualise the data according to the 'Complaint' character length"
      ],
      "execution_count": 31,
      "outputs": []
    },
    {
      "cell_type": "markdown",
      "metadata": {
        "id": "T9jD_6SeJrF3"
      },
      "source": [
        "#### Find the top 40 words by frequency among all the articles after processing the text."
      ]
    },
    {
      "cell_type": "code",
      "metadata": {
        "id": "QcfdvtfZJrF3"
      },
      "source": [
        "#Using a word cloud find the top 40 words by frequency among all the articles after processing the text\n"
      ],
      "execution_count": 32,
      "outputs": []
    },
    {
      "cell_type": "code",
      "metadata": {
        "id": "OkSmc3UaJrF4"
      },
      "source": [
        "#Removing -PRON- from the text corpus\n",
        "df_clean['Complaint_clean'] = df_clean['complaint_POS_removed'].str.replace('-PRON-', '')"
      ],
      "execution_count": null,
      "outputs": []
    },
    {
      "cell_type": "markdown",
      "metadata": {
        "id": "5DfCSbbmJrF4"
      },
      "source": [
        "#### Find the top unigrams,bigrams and trigrams by frequency among all the complaints after processing the text."
      ]
    },
    {
      "cell_type": "code",
      "metadata": {
        "id": "5mbk5DS5JrF4"
      },
      "source": [
        "#Write your code here to find the top 30 unigram frequency among the complaints in the cleaned datafram(df_clean). \n"
      ],
      "execution_count": null,
      "outputs": []
    },
    {
      "cell_type": "code",
      "metadata": {
        "id": "YX7fedm1JrF8"
      },
      "source": [
        "#Print the top 10 words in the unigram frequency\n"
      ],
      "execution_count": null,
      "outputs": []
    },
    {
      "cell_type": "code",
      "metadata": {
        "id": "aV7kD7w8JrF8"
      },
      "source": [
        "#Write your code here to find the top 30 bigram frequency among the complaints in the cleaned datafram(df_clean). \n"
      ],
      "execution_count": null,
      "outputs": []
    },
    {
      "cell_type": "code",
      "metadata": {
        "id": "NPnMNIpyJrF9"
      },
      "source": [
        "#Print the top 10 words in the bigram frequency"
      ],
      "execution_count": null,
      "outputs": []
    },
    {
      "cell_type": "code",
      "metadata": {
        "id": "Xkh7vtbtJrF-"
      },
      "source": [
        "#Write your code here to find the top 30 trigram frequency among the complaints in the cleaned datafram(df_clean). \n"
      ],
      "execution_count": null,
      "outputs": []
    },
    {
      "cell_type": "code",
      "metadata": {
        "id": "REcVxNfvJrF-"
      },
      "source": [
        "#Print the top 10 words in the trigram frequency"
      ],
      "execution_count": null,
      "outputs": []
    },
    {
      "cell_type": "markdown",
      "metadata": {
        "id": "yUXzFji0JrF_"
      },
      "source": [
        "## The personal details of customer has been masked in the dataset with xxxx. Let's remove the masked text as this will be of no use for our analysis"
      ]
    },
    {
      "cell_type": "code",
      "metadata": {
        "id": "wKda-a_IJrF_"
      },
      "source": [
        "df_clean['Complaint_clean'] = df_clean['Complaint_clean'].str.replace('xxxx','')"
      ],
      "execution_count": null,
      "outputs": []
    },
    {
      "cell_type": "code",
      "metadata": {
        "id": "9UIFk8fQJrF_"
      },
      "source": [
        "#All masked texts has been removed\n",
        "df_clean"
      ],
      "execution_count": null,
      "outputs": []
    },
    {
      "cell_type": "markdown",
      "metadata": {
        "id": "k-I0k0QtJrGA"
      },
      "source": [
        "## Feature Extraction\n",
        "Convert the raw texts to a matrix of TF-IDF features\n",
        "\n",
        "**max_df** is used for removing terms that appear too frequently, also known as \"corpus-specific stop words\"\n",
        "max_df = 0.95 means \"ignore terms that appear in more than 95% of the complaints\"\n",
        "\n",
        "**min_df** is used for removing terms that appear too infrequently\n",
        "min_df = 2 means \"ignore terms that appear in less than 2 complaints\""
      ]
    },
    {
      "cell_type": "code",
      "metadata": {
        "id": "Y8fGwaCPJrGA"
      },
      "source": [
        "#Write your code here to initialise the TfidfVectorizer \n",
        "\n"
      ],
      "execution_count": null,
      "outputs": []
    },
    {
      "cell_type": "markdown",
      "metadata": {
        "id": "yYzD85nTJrGA"
      },
      "source": [
        "#### Create a document term matrix using fit_transform\n",
        "\n",
        "The contents of a document term matrix are tuples of (complaint_id,token_id) tf-idf score:\n",
        "The tuples that are not there have a tf-idf score of 0"
      ]
    },
    {
      "cell_type": "code",
      "metadata": {
        "id": "ffzdDpp_JrGB"
      },
      "source": [
        "#Write your code here to create the Document Term Matrix by transforming the complaints column present in df_clean.\n"
      ],
      "execution_count": null,
      "outputs": []
    },
    {
      "cell_type": "markdown",
      "metadata": {
        "id": "7Q9lwvNEJrGB"
      },
      "source": [
        "## Topic Modelling using NMF\n",
        "\n",
        "Non-Negative Matrix Factorization (NMF) is an unsupervised technique so there are no labeling of topics that the model will be trained on. The way it works is that, NMF decomposes (or factorizes) high-dimensional vectors into a lower-dimensional representation. These lower-dimensional vectors are non-negative which also means their coefficients are non-negative.\n",
        "\n",
        "In this task you have to perform the following:\n",
        "\n",
        "* Find the best number of clusters \n",
        "* Apply the best number to create word clusters\n",
        "* Inspect & validate the correction of each cluster wrt the complaints \n",
        "* Correct the labels if needed \n",
        "* Map the clusters to topics/cluster names"
      ]
    },
    {
      "cell_type": "code",
      "metadata": {
        "id": "amLT4omWJrGB"
      },
      "source": [
        "from sklearn.decomposition import NMF"
      ],
      "execution_count": null,
      "outputs": []
    },
    {
      "cell_type": "markdown",
      "metadata": {
        "id": "0wYR1xUTJrGD"
      },
      "source": [
        "## Manual Topic Modeling\n",
        "You need to do take the trial & error approach to find the best num of topics for your NMF model.\n",
        "\n",
        "The only parameter that is required is the number of components i.e. the number of topics we want. This is the most crucial step in the whole topic modeling process and will greatly affect how good your final topics are."
      ]
    },
    {
      "cell_type": "code",
      "metadata": {
        "id": "sgd2A6bhJrGD"
      },
      "source": [
        "#Load your nmf_model with the n_components i.e 5\n",
        "num_topics = #write the value you want to test out\n",
        "\n",
        "#keep the random_state =40\n",
        "nmf_model = #write your code here"
      ],
      "execution_count": null,
      "outputs": []
    },
    {
      "cell_type": "code",
      "metadata": {
        "id": "VPMDYbt_JrGE"
      },
      "source": [
        "nmf_model.fit(dtm)\n",
        "len(tfidf.get_feature_names())"
      ],
      "execution_count": null,
      "outputs": []
    },
    {
      "cell_type": "code",
      "metadata": {
        "id": "16kRfat5JrGE"
      },
      "source": [
        "#Print the Top15 words for each of the topics\n"
      ],
      "execution_count": null,
      "outputs": []
    },
    {
      "cell_type": "code",
      "metadata": {
        "id": "0OIT7LmFJrGF"
      },
      "source": [
        "#Create the best topic for each complaint in terms of integer value 0,1,2,3 & 4\n",
        "\n"
      ],
      "execution_count": null,
      "outputs": []
    },
    {
      "cell_type": "code",
      "metadata": {
        "id": "peyYv-ORJrGF"
      },
      "source": [
        "#Assign the best topic to each of the cmplaints in Topic Column\n",
        "\n",
        "df_clean['Topic'] = #write your code to assign topics to each rows."
      ],
      "execution_count": null,
      "outputs": []
    },
    {
      "cell_type": "code",
      "metadata": {
        "id": "fLh_Gf3nJrGF"
      },
      "source": [
        "df_clean.head()"
      ],
      "execution_count": null,
      "outputs": []
    },
    {
      "cell_type": "code",
      "metadata": {
        "id": "aQKpufSPJrGG"
      },
      "source": [
        "#Print the first 5 Complaint for each of the Topics\n",
        "df_clean=df_clean.groupby('Topic').head(5)\n",
        "df_clean.sort_values('Topic')"
      ],
      "execution_count": null,
      "outputs": []
    },
    {
      "cell_type": "markdown",
      "metadata": {
        "id": "piyLxzj6v07j"
      },
      "source": [
        "#### After evaluating the mapping, if the topics assigned are correct then assign these names to the relevant topic:\n",
        "* Bank Account services\n",
        "* Credit card or prepaid card\n",
        "* Theft/Dispute Reporting\n",
        "* Mortgage/Loan\n",
        "* Others"
      ]
    },
    {
      "cell_type": "code",
      "metadata": {
        "id": "TWpwDG4RJrGG"
      },
      "source": [
        "#Create the dictionary of Topic names and Topics\n",
        "\n",
        "Topic_names = {   }\n",
        "#Replace Topics with Topic Names\n",
        "df_clean['Topic'] = df_clean['Topic'].map(Topic_names)"
      ],
      "execution_count": null,
      "outputs": []
    },
    {
      "cell_type": "code",
      "metadata": {
        "id": "-2ULY5K6JrGG"
      },
      "source": [
        "df_clean"
      ],
      "execution_count": null,
      "outputs": []
    },
    {
      "cell_type": "markdown",
      "metadata": {
        "id": "7Mu0QBOcJrGH"
      },
      "source": [
        "## Supervised model to predict any new complaints to the relevant Topics.\n",
        "\n",
        "You have now build the model to create the topics for each complaints.Now in the below section you will use them to classify any new complaints.\n",
        "\n",
        "Since you will be using supervised learning technique we have to convert the topic names to numbers(numpy arrays only understand numbers)"
      ]
    },
    {
      "cell_type": "code",
      "metadata": {
        "id": "_U8J3J8wJrGH"
      },
      "source": [
        "#Create the dictionary again of Topic names and Topics\n",
        "\n",
        "Topic_names = {   }\n",
        "#Replace Topics with Topic Names\n",
        "df_clean['Topic'] = df_clean['Topic'].map(Topic_names)"
      ],
      "execution_count": null,
      "outputs": []
    },
    {
      "cell_type": "code",
      "metadata": {
        "id": "BWIgJUkQJrGH"
      },
      "source": [
        "df_clean"
      ],
      "execution_count": null,
      "outputs": []
    },
    {
      "cell_type": "code",
      "metadata": {
        "id": "Xx-FrbkWJrGH"
      },
      "source": [
        "#Keep the columns\"complaint_what_happened\" & \"Topic\" only in the new dataframe --> training_data\n",
        "training_data="
      ],
      "execution_count": null,
      "outputs": []
    },
    {
      "cell_type": "code",
      "metadata": {
        "id": "lVg2pa12JrGI"
      },
      "source": [
        "training_data"
      ],
      "execution_count": null,
      "outputs": []
    },
    {
      "cell_type": "markdown",
      "metadata": {
        "id": "280Vbqk-7a8M"
      },
      "source": [
        "####Apply the supervised models on the training data created. In this process, you have to do the following:\n",
        "* Create the vector counts using Count Vectoriser\n",
        "* Transform the word vecotr to tf-idf\n",
        "* Create the train & test data using the train_test_split on the tf-idf & topics\n"
      ]
    },
    {
      "cell_type": "code",
      "metadata": {
        "id": "oUlQpgkzJrGI"
      },
      "source": [
        "\n",
        "#Write your code to get the Vector count\n",
        "\n",
        "\n",
        "#Write your code here to transform the word vector to tf-idf"
      ],
      "execution_count": null,
      "outputs": []
    },
    {
      "cell_type": "markdown",
      "metadata": {
        "id": "uMU3vj6w-wqL"
      },
      "source": [
        "You have to try atleast 3 models on the train & test data from these options:\n",
        "* Logistic regression\n",
        "* Decision Tree\n",
        "* Random Forest\n",
        "* Naive Bayes (optional)\n",
        "\n",
        "**Using the required evaluation metrics judge the tried models and select the ones performing the best**"
      ]
    },
    {
      "cell_type": "code",
      "metadata": {
        "id": "udLHpPsZJrGI"
      },
      "source": [
        "# Write your code here to build any 3 models and evaluate them using the required metrics\n",
        "\n",
        "\n",
        "\n"
      ],
      "execution_count": null,
      "outputs": []
    },
    {
      "cell_type": "code",
      "metadata": {
        "id": "N2OznsObJrGP"
      },
      "source": [],
      "execution_count": null,
      "outputs": []
    }
  ]
}